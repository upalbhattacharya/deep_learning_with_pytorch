{
 "cells": [
  {
   "cell_type": "markdown",
   "id": "given-tackle",
   "metadata": {},
   "source": [
    "## Transfer Learning"
   ]
  },
  {
   "cell_type": "code",
   "execution_count": 2,
   "id": "arbitrary-somerset",
   "metadata": {},
   "outputs": [],
   "source": [
    "import torch\n",
    "import torch.nn as nn\n",
    "import torchvision\n",
    "from torchvision import datasets, models, transforms\n",
    "import numpy as np\n",
    "import matplotlib.pyplot as plt\n",
    "import time\n",
    "import os\n",
    "import copy"
   ]
  },
  {
   "cell_type": "markdown",
   "id": "bizarre-nelson",
   "metadata": {},
   "source": [
    "Setting up GPU (if available)"
   ]
  },
  {
   "cell_type": "code",
   "execution_count": 3,
   "id": "applicable-assistant",
   "metadata": {},
   "outputs": [
    {
     "name": "stdout",
     "output_type": "stream",
     "text": [
      "cuda\n"
     ]
    }
   ],
   "source": [
    "device = torch.device(\"cuda\" if torch.cuda.is_available() else \"cpu\")\n",
    "print(device)"
   ]
  },
  {
   "cell_type": "markdown",
   "id": "typical-characteristic",
   "metadata": {},
   "source": [
    "Defining the data setup"
   ]
  },
  {
   "cell_type": "code",
   "execution_count": 4,
   "id": "sought-destruction",
   "metadata": {},
   "outputs": [],
   "source": [
    "batch_size=32\n",
    "num_epochs=4\n",
    "lr=1e-2"
   ]
  },
  {
   "cell_type": "code",
   "execution_count": 5,
   "id": "dynamic-movie",
   "metadata": {},
   "outputs": [],
   "source": [
    "mean = np.array([0.485, 0.456, 0.406])\n",
    "std = np.array([0.229, 0.224, 0.225])"
   ]
  },
  {
   "cell_type": "code",
   "execution_count": 6,
   "id": "prospective-charter",
   "metadata": {},
   "outputs": [],
   "source": [
    "data_transforms = {\n",
    "    \"train\": transforms.Compose(\n",
    "        [transforms.RandomResizedCrop(size=(224, 224)),\n",
    "         transforms.RandomHorizontalFlip(),\n",
    "         transforms.ToTensor(),\n",
    "         transforms.Normalize(mean, std)]),\n",
    "    \"val\": transforms.Compose(\n",
    "        [transforms.Resize(size=(256,256)),\n",
    "         transforms.CenterCrop(size=(224,224)),\n",
    "         transforms.ToTensor(),\n",
    "         transforms.Normalize(mean, std)])\n",
    "}"
   ]
  },
  {
   "cell_type": "markdown",
   "id": "pursuant-intellectual",
   "metadata": {},
   "source": [
    "PyTorch provides the ```torch.datasets.ImageFolder``` class for loading generic image data that are categorized by the folders they are in. The ```ImageFolder``` takes the following common arguments:\n",
    "- ```root```: Root directory where the data is stored.\n",
    "- ```transform```: Transformations to apply to the data.\n",
    "- ```target_transform```: Transformations to apply to the targets."
   ]
  },
  {
   "cell_type": "code",
   "execution_count": 7,
   "id": "charming-challenge",
   "metadata": {},
   "outputs": [],
   "source": [
    "data_dir = \"./data/hymenoptera_data\"\n",
    "sets = [\"train\", \"val\"]\n",
    "image_datasets = {x: datasets.ImageFolder(\n",
    "    root=os.path.join(data_dir, x),\n",
    "                 transform=data_transforms[x])\n",
    "                 for x in [\"train\", \"val\"]}\n",
    "\n",
    "dataloaders = {x: torch.utils.data.DataLoader(image_datasets[x],\n",
    "                                            batch_size=batch_size,\n",
    "                                            shuffle=True)\n",
    "             for x in [\"train\", \"val\"]}"
   ]
  },
  {
   "cell_type": "code",
   "execution_count": 8,
   "id": "emerging-scope",
   "metadata": {},
   "outputs": [
    {
     "name": "stdout",
     "output_type": "stream",
     "text": [
      "torch.Size([32, 3, 224, 224])\n"
     ]
    }
   ],
   "source": [
    "print(next(iter(dataloaders[\"train\"]))[0].shape)"
   ]
  },
  {
   "cell_type": "markdown",
   "id": "metropolitan-korea",
   "metadata": {},
   "source": [
    "To get the classes of the images loaded using an ```ImageFolder```, use the ```classes``` attribute."
   ]
  },
  {
   "cell_type": "code",
   "execution_count": 9,
   "id": "pleased-attention",
   "metadata": {},
   "outputs": [
    {
     "name": "stdout",
     "output_type": "stream",
     "text": [
      "['ants', 'bees']\n"
     ]
    }
   ],
   "source": [
    "class_names = image_datasets[\"train\"].classes\n",
    "dataset_sizes = {x: len(image_datasets[x]) for x in [\"train\", \"val\"]}\n",
    "print(class_names)"
   ]
  },
  {
   "cell_type": "markdown",
   "id": "sporting-andrews",
   "metadata": {},
   "source": [
    "Defining a training function"
   ]
  },
  {
   "cell_type": "markdown",
   "id": "subtle-uruguay",
   "metadata": {},
   "source": [
    "It is possible to use a Context Manager that allows one to define the gradient updation protocol using ```torch.set_grad_enabled(bool)```."
   ]
  },
  {
   "cell_type": "markdown",
   "id": "twelve-latex",
   "metadata": {},
   "source": [
    "Certain layers like Batch Normalization and Dropout need not be used at the time of prediction. To faciliate this, any model subclassed from the ```torch.nn.Module``` module can be set to evaluation mode using ```model.eval()```. This acts as switch that sets the corresponding layers to evaluation mode to generate proper results."
   ]
  },
  {
   "cell_type": "markdown",
   "id": "cathedral-procedure",
   "metadata": {},
   "source": [
    "PyTorch allows for adaptation of the learning rate. Various methods of adapting the learning rate can be found in ```torch.optim.lr_scheduler```. These schedulers are given the optimizer and updated at the end of each epoch using the ```.step()``` method."
   ]
  },
  {
   "cell_type": "markdown",
   "id": "organizational-russian",
   "metadata": {},
   "source": [
    "**IMPORTANT: Do not follow the following method setup for creating a combined training and testing method. For a proper idea of structuring, refer to** https://cs230.stanford.edu/blog/pytorch/. **Coding examples can be found in the following GitHub repo** https://github.com/cs230-stanford/cs230-code-examples"
   ]
  },
  {
   "cell_type": "code",
   "execution_count": 30,
   "id": "smooth-afghanistan",
   "metadata": {},
   "outputs": [],
   "source": [
    "def train_model(model, objective, optimizer, scheduler, num_epochs = 25):\n",
    "    since = time.time()\n",
    "    \n",
    "    best_model_wts = copy.deepcopy(model.state_dict())\n",
    "    best_acc = 0.0\n",
    "    \n",
    "    for epoch in range(num_epochs):\n",
    "        print(f\"Epoch {epoch}/{num_epochs-1}\")\n",
    "        \n",
    "        for phase in [\"train\", \"val\"]:\n",
    "            if phase == \"train\":\n",
    "                model.train()\n",
    "            else:\n",
    "                model.eval()\n",
    "            \n",
    "            running_loss = 0.0\n",
    "            running_corrects = 0\n",
    "            \n",
    "            for inputs, labels in dataloaders[phase]:\n",
    "                inputs = inputs.to(device)\n",
    "                labels = labels.to(device)\n",
    "                \n",
    "                with torch.set_grad_enabled(phase == \"train\"):\n",
    "                    outputs = model(inputs)\n",
    "                    _, preds = torch.max(outputs, dim=1)\n",
    "                    loss = objective(outputs, labels)\n",
    "                    \n",
    "                    if (phase == \"train\"):\n",
    "                        optimizer.zero_grad()\n",
    "                        loss.backward()\n",
    "                        optimizer.step()\n",
    "                running_loss += loss.item() * inputs.size(0)\n",
    "                running_corrects += (torch.sum(preds == labels.data))\n",
    "                                     \n",
    "            if (phase == \"train\"):\n",
    "                scheduler.step()\n",
    "        \n",
    "        epoch_loss = running_loss / dataset_sizes[phase]\n",
    "        epoch_acc = running_corrects.double() / dataset_sizes[phase]\n",
    "        \n",
    "        print('{} Loss: {:.4f} Acc: {:.4f}'.format(\n",
    "                phase, epoch_loss, epoch_acc))\n",
    "\n",
    "        # deep copy the model\n",
    "        if (phase == 'val' and epoch_acc > best_acc):\n",
    "            best_acc = epoch_acc\n",
    "            best_model_wts = copy.deepcopy(model.state_dict())\n",
    "            \n",
    "    time_elapsed = time.time() - since\n",
    "    print('Training complete in {:.0f}m {:.0f}s'.format(\n",
    "        time_elapsed // 60, time_elapsed % 60))\n",
    "    print('Best val Acc: {:4f}'.format(best_acc))\n",
    "\n",
    "    # load best model weights\n",
    "    model.load_state_dict(best_model_wts)\n",
    "    return model\n",
    "\n",
    "        "
   ]
  },
  {
   "cell_type": "markdown",
   "id": "after-azerbaijan",
   "metadata": {},
   "source": [
    "Loading one of the given models"
   ]
  },
  {
   "cell_type": "markdown",
   "id": "stainless-wallpaper",
   "metadata": {},
   "source": [
    "Standard pre-trained models can be found in ```torchvision.models```."
   ]
  },
  {
   "cell_type": "markdown",
   "id": "diagnostic-deficit",
   "metadata": {},
   "source": [
    "Loading the ResNet-18 and replacing the last layer."
   ]
  },
  {
   "cell_type": "code",
   "execution_count": 31,
   "id": "subtle-appendix",
   "metadata": {},
   "outputs": [],
   "source": [
    "model = models.resnet18(pretrained=True)\n",
    "num_features = model.fc.in_features\n",
    "model.fc = nn.Linear(num_features, len(class_names))"
   ]
  },
  {
   "cell_type": "code",
   "execution_count": 32,
   "id": "twenty-socket",
   "metadata": {},
   "outputs": [],
   "source": [
    "model = model.to(device)"
   ]
  },
  {
   "cell_type": "code",
   "execution_count": 33,
   "id": "convertible-hands",
   "metadata": {},
   "outputs": [],
   "source": [
    "objective = nn.CrossEntropyLoss()"
   ]
  },
  {
   "cell_type": "code",
   "execution_count": 34,
   "id": "covered-founder",
   "metadata": {},
   "outputs": [],
   "source": [
    "optimizer = torch.optim.SGD(model.parameters(), lr=lr)\n",
    "step_lr_scheduler = torch.optim.lr_scheduler.StepLR(optimizer,\n",
    "                                       step_size=7,\n",
    "                                       gamma=0.1)"
   ]
  },
  {
   "cell_type": "code",
   "execution_count": 35,
   "id": "lesbian-garage",
   "metadata": {},
   "outputs": [
    {
     "name": "stdout",
     "output_type": "stream",
     "text": [
      "Epoch 0/24\n",
      "val Loss: 0.6490 Acc: 0.6471\n",
      "Epoch 1/24\n",
      "val Loss: 0.2880 Acc: 0.9150\n",
      "Epoch 2/24\n",
      "val Loss: 0.2449 Acc: 0.9150\n",
      "Epoch 3/24\n",
      "val Loss: 0.2494 Acc: 0.9150\n",
      "Epoch 4/24\n",
      "val Loss: 0.2301 Acc: 0.9216\n",
      "Epoch 5/24\n",
      "val Loss: 0.2346 Acc: 0.9216\n",
      "Epoch 6/24\n",
      "val Loss: 0.2266 Acc: 0.9216\n",
      "Epoch 7/24\n",
      "val Loss: 0.2197 Acc: 0.9281\n",
      "Epoch 8/24\n",
      "val Loss: 0.2154 Acc: 0.9281\n",
      "Epoch 9/24\n",
      "val Loss: 0.2133 Acc: 0.9346\n",
      "Epoch 10/24\n",
      "val Loss: 0.2130 Acc: 0.9346\n",
      "Epoch 11/24\n",
      "val Loss: 0.2143 Acc: 0.9346\n",
      "Epoch 12/24\n",
      "val Loss: 0.2123 Acc: 0.9346\n",
      "Epoch 13/24\n",
      "val Loss: 0.2134 Acc: 0.9346\n",
      "Epoch 14/24\n",
      "val Loss: 0.2128 Acc: 0.9346\n",
      "Epoch 15/24\n",
      "val Loss: 0.2126 Acc: 0.9412\n",
      "Epoch 16/24\n",
      "val Loss: 0.2132 Acc: 0.9346\n",
      "Epoch 17/24\n",
      "val Loss: 0.2097 Acc: 0.9346\n",
      "Epoch 18/24\n",
      "val Loss: 0.2109 Acc: 0.9346\n",
      "Epoch 19/24\n",
      "val Loss: 0.2118 Acc: 0.9346\n",
      "Epoch 20/24\n",
      "val Loss: 0.2113 Acc: 0.9346\n",
      "Epoch 21/24\n",
      "val Loss: 0.2107 Acc: 0.9346\n",
      "Epoch 22/24\n",
      "val Loss: 0.2115 Acc: 0.9346\n",
      "Epoch 23/24\n",
      "val Loss: 0.2111 Acc: 0.9346\n",
      "Epoch 24/24\n",
      "val Loss: 0.2107 Acc: 0.9412\n",
      "Training complete in 2m 13s\n",
      "Best val Acc: 0.941176\n"
     ]
    }
   ],
   "source": [
    "model = train_model(model, objective, optimizer,\n",
    "                   step_lr_scheduler, num_epochs=25)"
   ]
  },
  {
   "cell_type": "markdown",
   "id": "molecular-symphony",
   "metadata": {},
   "source": [
    "It is possible to freeze all the weights of a loaded model and train only the weights on added layers."
   ]
  },
  {
   "cell_type": "code",
   "execution_count": 37,
   "id": "unusual-primary",
   "metadata": {},
   "outputs": [],
   "source": [
    "model_2 = models.resnet18(pretrained=True)"
   ]
  },
  {
   "cell_type": "code",
   "execution_count": 38,
   "id": "cordless-cycle",
   "metadata": {},
   "outputs": [],
   "source": [
    "# Freezing the training weights\n",
    "for param in model_2.parameters():\n",
    "    param.requires_grad = False\n"
   ]
  },
  {
   "cell_type": "code",
   "execution_count": 44,
   "id": "stunning-valve",
   "metadata": {},
   "outputs": [
    {
     "name": "stdout",
     "output_type": "stream",
     "text": [
      "Epoch 0/24\n",
      "val Loss: 0.2490 Acc: 0.9085\n",
      "Epoch 1/24\n",
      "val Loss: 0.2641 Acc: 0.8889\n",
      "Epoch 2/24\n",
      "val Loss: 0.1585 Acc: 0.9477\n",
      "Epoch 3/24\n",
      "val Loss: 0.1630 Acc: 0.9477\n",
      "Epoch 4/24\n",
      "val Loss: 0.2208 Acc: 0.9085\n",
      "Epoch 5/24\n",
      "val Loss: 0.3651 Acc: 0.8758\n",
      "Epoch 6/24\n",
      "val Loss: 0.3627 Acc: 0.8627\n",
      "Epoch 7/24\n",
      "val Loss: 0.1701 Acc: 0.9412\n",
      "Epoch 8/24\n",
      "val Loss: 0.2799 Acc: 0.8954\n",
      "Epoch 9/24\n",
      "val Loss: 0.2235 Acc: 0.9085\n",
      "Epoch 10/24\n",
      "val Loss: 0.1790 Acc: 0.9477\n",
      "Epoch 11/24\n",
      "val Loss: 0.1717 Acc: 0.9477\n",
      "Epoch 12/24\n",
      "val Loss: 0.1843 Acc: 0.9477\n",
      "Epoch 13/24\n",
      "val Loss: 0.1892 Acc: 0.9412\n",
      "Epoch 14/24\n",
      "val Loss: 0.1886 Acc: 0.9346\n",
      "Epoch 15/24\n",
      "val Loss: 0.1896 Acc: 0.9412\n",
      "Epoch 16/24\n",
      "val Loss: 0.1884 Acc: 0.9477\n",
      "Epoch 17/24\n",
      "val Loss: 0.1852 Acc: 0.9477\n",
      "Epoch 18/24\n",
      "val Loss: 0.1841 Acc: 0.9477\n",
      "Epoch 19/24\n",
      "val Loss: 0.1839 Acc: 0.9412\n",
      "Epoch 20/24\n",
      "val Loss: 0.1832 Acc: 0.9542\n",
      "Epoch 21/24\n",
      "val Loss: 0.1827 Acc: 0.9542\n",
      "Epoch 22/24\n",
      "val Loss: 0.1760 Acc: 0.9477\n",
      "Epoch 23/24\n",
      "val Loss: 0.1734 Acc: 0.9477\n",
      "Epoch 24/24\n",
      "val Loss: 0.1790 Acc: 0.9477\n",
      "Training complete in 1m 28s\n",
      "Best val Acc: 0.954248\n"
     ]
    }
   ],
   "source": [
    "num_features = model_2.fc.in_features\n",
    "model_2.fc = nn.Linear(num_features, len(class_names))\n",
    "optimizer_2 = torch.optim.SGD(model_2.fc.parameters(), lr=lr, momentum=0.9)\n",
    "scheduler_2 = torch.optim.lr_scheduler.StepLR(optimizer_2,\n",
    "                                              step_size=7, gamma=0.1)\n",
    "model_2 = model_2.to(device)\n",
    "model_2 = train_model(model_2, objective, optimizer_2,\n",
    "                     scheduler_2, num_epochs=25)"
   ]
  },
  {
   "cell_type": "code",
   "execution_count": null,
   "id": "diagnostic-solomon",
   "metadata": {},
   "outputs": [],
   "source": []
  }
 ],
 "metadata": {
  "kernelspec": {
   "display_name": "Python 3 (ipykernel)",
   "language": "python",
   "name": "python3"
  },
  "language_info": {
   "codemirror_mode": {
    "name": "ipython",
    "version": 3
   },
   "file_extension": ".py",
   "mimetype": "text/x-python",
   "name": "python",
   "nbconvert_exporter": "python",
   "pygments_lexer": "ipython3",
   "version": "3.8.10"
  }
 },
 "nbformat": 4,
 "nbformat_minor": 5
}
