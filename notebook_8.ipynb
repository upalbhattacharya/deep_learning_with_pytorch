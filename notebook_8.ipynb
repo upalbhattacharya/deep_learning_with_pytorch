{
 "cells": [
  {
   "cell_type": "markdown",
   "id": "given-tackle",
   "metadata": {},
   "source": [
    "## Transfer Learning"
   ]
  },
  {
   "cell_type": "code",
   "execution_count": 2,
   "id": "arbitrary-somerset",
   "metadata": {},
   "outputs": [],
   "source": [
    "import torch\n",
    "import torch.nn as nn\n",
    "import torchvision\n",
    "from torchvision import datasets, models, transforms\n",
    "import numpy as np\n",
    "import matplotlib.pyplot as plt\n",
    "import time\n",
    "import os\n",
    "import copy"
   ]
  },
  {
   "cell_type": "markdown",
   "id": "bizarre-nelson",
   "metadata": {},
   "source": [
    "Setting up GPU (if available)"
   ]
  },
  {
   "cell_type": "code",
   "execution_count": 4,
   "id": "applicable-assistant",
   "metadata": {},
   "outputs": [
    {
     "name": "stdout",
     "output_type": "stream",
     "text": [
      "cuda\n"
     ]
    }
   ],
   "source": [
    "device = torch.device(\"cuda\" if torch.cuda.is_available() else \"cpu\")\n",
    "print(device)"
   ]
  },
  {
   "cell_type": "markdown",
   "id": "typical-characteristic",
   "metadata": {},
   "source": [
    "Defining the data setup"
   ]
  },
  {
   "cell_type": "code",
   "execution_count": 9,
   "id": "sought-destruction",
   "metadata": {},
   "outputs": [],
   "source": [
    "batch_size=32\n",
    "num_epochs=4\n",
    "lr=1e-2"
   ]
  },
  {
   "cell_type": "code",
   "execution_count": 5,
   "id": "dynamic-movie",
   "metadata": {},
   "outputs": [],
   "source": [
    "mean = np.array([0.485, 0.456, 0.406])\n",
    "std = np.array([0.229, 0.224, 0.225])"
   ]
  },
  {
   "cell_type": "code",
   "execution_count": 10,
   "id": "prospective-charter",
   "metadata": {},
   "outputs": [],
   "source": [
    "data_transforms = {\n",
    "    \"train\": transforms.Compose(\n",
    "        [transforms.RandomResizedCrop(size=(224, 224)),\n",
    "         transforms.RandomHorizontalFlip(),\n",
    "         transforms.ToTensor(),\n",
    "         transforms.Normalize(mean, std)]),\n",
    "    \"val\": transforms.Compose(\n",
    "        [transforms.Resize(size=(256,256)),\n",
    "         transforms.CenterCrop(size=(224,224)),\n",
    "         transforms.ToTensor(),\n",
    "         transforms.Normalize(mean, std)])\n",
    "}"
   ]
  },
  {
   "cell_type": "markdown",
   "id": "pursuant-intellectual",
   "metadata": {},
   "source": [
    "PyTorch provides the ```torch.datasets.ImageFolder``` class for loading generic image data that are categorized by the folders they are in. The ```ImageFolder``` takes the following common arguments:\n",
    "- ```root```: Root directory where the data is stored.\n",
    "- ```transform```: Transformations to apply to the data.\n",
    "- ```target_transform```: Transformations to apply to the targets."
   ]
  },
  {
   "cell_type": "code",
   "execution_count": 13,
   "id": "charming-challenge",
   "metadata": {},
   "outputs": [],
   "source": [
    "data_dir = \"./data/hymenoptera_data\"\n",
    "sets = [\"train\", \"val\"]\n",
    "image_datasets = {x: datasets.ImageFolder(\n",
    "    root=os.path.join(data_dir, x),\n",
    "                 transform=data_transforms[x])\n",
    "                 for x in [\"train\", \"val\"]}\n",
    "\n",
    "dataloaders = {x: torch.utils.data.DataLoader(image_datasets[x],\n",
    "                                            batch_size=batch_size,\n",
    "                                            shuffle=True)\n",
    "             for x in [\"train\", \"val\"]}"
   ]
  },
  {
   "cell_type": "code",
   "execution_count": 17,
   "id": "emerging-scope",
   "metadata": {},
   "outputs": [
    {
     "name": "stdout",
     "output_type": "stream",
     "text": [
      "torch.Size([32, 3, 224, 224])\n"
     ]
    }
   ],
   "source": [
    "print(next(iter(dataloaders[\"train\"]))[0].shape)"
   ]
  },
  {
   "cell_type": "code",
   "execution_count": null,
   "id": "pleased-attention",
   "metadata": {},
   "outputs": [],
   "source": []
  }
 ],
 "metadata": {
  "kernelspec": {
   "display_name": "Python 3 (ipykernel)",
   "language": "python",
   "name": "python3"
  },
  "language_info": {
   "codemirror_mode": {
    "name": "ipython",
    "version": 3
   },
   "file_extension": ".py",
   "mimetype": "text/x-python",
   "name": "python",
   "nbconvert_exporter": "python",
   "pygments_lexer": "ipython3",
   "version": "3.8.10"
  }
 },
 "nbformat": 4,
 "nbformat_minor": 5
}
