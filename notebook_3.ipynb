{
 "cells": [
  {
   "cell_type": "code",
   "execution_count": 1,
   "id": "reported-saskatchewan",
   "metadata": {},
   "outputs": [],
   "source": [
    "import torch\n",
    "import torch.nn as nn\n",
    "import numpy as np\n",
    "from sklearn import datasets\n",
    "import matplotlib.pyplot as plt"
   ]
  },
  {
   "cell_type": "markdown",
   "id": "painful-alexander",
   "metadata": {},
   "source": [
    "### Linear Regression"
   ]
  },
  {
   "cell_type": "markdown",
   "id": "opponent-number",
   "metadata": {},
   "source": [
    "Creating a regression dataset"
   ]
  },
  {
   "cell_type": "code",
   "execution_count": 2,
   "id": "modern-interview",
   "metadata": {},
   "outputs": [],
   "source": [
    "x_np, y_np = datasets.make_regression(\n",
    "                n_samples=100,\n",
    "                n_features=1,\n",
    "                noise=20,\n",
    "                random_state=1)"
   ]
  },
  {
   "cell_type": "markdown",
   "id": "fixed-gateway",
   "metadata": {},
   "source": [
    "Conversion to tensors"
   ]
  },
  {
   "cell_type": "code",
   "execution_count": 4,
   "id": "portable-nicholas",
   "metadata": {},
   "outputs": [],
   "source": [
    "x = torch.from_numpy(x_np.astype(np.float32))\n",
    "y = torch.from_numpy(y_np.astype(np.float32)).view(y_np.shape[0],1)"
   ]
  },
  {
   "cell_type": "code",
   "execution_count": 5,
   "id": "modern-trout",
   "metadata": {},
   "outputs": [
    {
     "name": "stdout",
     "output_type": "stream",
     "text": [
      "torch.Size([100, 1]) torch.Size([100, 1])\n"
     ]
    }
   ],
   "source": [
    "print(x.shape, y.shape)"
   ]
  },
  {
   "cell_type": "code",
   "execution_count": 6,
   "id": "double-suffering",
   "metadata": {},
   "outputs": [],
   "source": [
    "n_samples, n_features = x.shape"
   ]
  },
  {
   "cell_type": "markdown",
   "id": "broadband-question",
   "metadata": {},
   "source": [
    "Defining the model"
   ]
  },
  {
   "cell_type": "code",
   "execution_count": 22,
   "id": "subjective-uncle",
   "metadata": {},
   "outputs": [],
   "source": [
    "model = nn.Linear(in_features=n_features,\n",
    "                 out_features=n_features)"
   ]
  },
  {
   "cell_type": "code",
   "execution_count": 23,
   "id": "frank-receipt",
   "metadata": {},
   "outputs": [],
   "source": [
    "loss = nn.MSELoss()\n",
    "optimizer = torch.optim.SGD(model.parameters(),lr=0.001)"
   ]
  },
  {
   "cell_type": "code",
   "execution_count": 24,
   "id": "optical-fifty",
   "metadata": {},
   "outputs": [],
   "source": [
    "num_epochs = 100"
   ]
  },
  {
   "cell_type": "markdown",
   "id": "spanish-municipality",
   "metadata": {},
   "source": [
    "Training loop"
   ]
  },
  {
   "cell_type": "code",
   "execution_count": 25,
   "id": "central-investigator",
   "metadata": {},
   "outputs": [
    {
     "name": "stdout",
     "output_type": "stream",
     "text": [
      "epoch:\t0, loss:\t5705.0293\n",
      "epoch:\t10, loss:\t5535.2886\n",
      "epoch:\t20, loss:\t5370.9644\n",
      "epoch:\t30, loss:\t5211.8809\n",
      "epoch:\t40, loss:\t5057.8696\n",
      "epoch:\t50, loss:\t4908.7671\n",
      "epoch:\t60, loss:\t4764.4150\n",
      "epoch:\t70, loss:\t4624.6592\n",
      "epoch:\t80, loss:\t4489.3535\n",
      "epoch:\t90, loss:\t4358.3525\n"
     ]
    }
   ],
   "source": [
    "for epoch in range(num_epochs):\n",
    "    y_pred = model(x)\n",
    "    l = loss(y, y_pred)\n",
    "    l.backward()\n",
    "    optimizer.step()\n",
    "    optimizer.zero_grad()\n",
    "    \n",
    "    if (epoch % 10 == 0):\n",
    "        print(f\"epoch:\\t{epoch}, loss:\\t{l.item():.4f}\")\n",
    "        \n",
    "pred = model(x).detach().numpy()"
   ]
  },
  {
   "cell_type": "code",
   "execution_count": 26,
   "id": "controlled-arrangement",
   "metadata": {},
   "outputs": [],
   "source": [
    "%matplotlib inline"
   ]
  },
  {
   "cell_type": "code",
   "execution_count": 28,
   "id": "comparative-current",
   "metadata": {},
   "outputs": [
    {
     "data": {
      "image/png": "[encoded data removed]",
      "text/plain": [
       "<Figure size 432x288 with 1 Axes>"
      ]
     },
     "metadata": {
      "needs_background": "light"
     },
     "output_type": "display_data"
    }
   ],
   "source": [
    "plt.plot(x_np,y_np, 'ro')\n",
    "plt.plot(x_np, pred, 'b')\n",
    "plt.show()"
   ]
  },
  {
   "cell_type": "markdown",
   "id": "demographic-cleaning",
   "metadata": {},
   "source": [
    "### Logistic Regression"
   ]
  },
  {
   "cell_type": "code",
   "execution_count": 34,
   "id": "rapid-cabinet",
   "metadata": {},
   "outputs": [],
   "source": [
    "from sklearn.preprocessing import StandardScaler\n",
    "from sklearn.model_selection import train_test_split"
   ]
  },
  {
   "cell_type": "code",
   "execution_count": 35,
   "id": "obvious-liechtenstein",
   "metadata": {},
   "outputs": [],
   "source": [
    "bc = datasets.load_breast_cancer()\n",
    "x_np, y_np = bc.data, bc.target"
   ]
  },
  {
   "cell_type": "code",
   "execution_count": 36,
   "id": "indirect-tours",
   "metadata": {},
   "outputs": [],
   "source": [
    "n_samples, n_features = x_np.shape"
   ]
  },
  {
   "cell_type": "code",
   "execution_count": 37,
   "id": "realistic-vietnam",
   "metadata": {},
   "outputs": [
    {
     "data": {
      "text/plain": [
       "numpy.ndarray"
      ]
     },
     "execution_count": 37,
     "metadata": {},
     "output_type": "execute_result"
    }
   ],
   "source": [
    "type(x_np)"
   ]
  },
  {
   "cell_type": "markdown",
   "id": "hybrid-voltage",
   "metadata": {},
   "source": [
    "#### Data Preparation"
   ]
  },
  {
   "cell_type": "code",
   "execution_count": 50,
   "id": "polish-uniform",
   "metadata": {},
   "outputs": [
    {
     "name": "stdout",
     "output_type": "stream",
     "text": [
      "torch.Size([455, 1])\n"
     ]
    }
   ],
   "source": [
    "x_train, x_test, y_train, y_test = train_test_split(x_np, y_np,\n",
    "                                                   test_size=0.2,\n",
    "                                                   random_state=32)\n",
    "\n",
    "sc = StandardScaler()\n",
    "x_train = sc.fit_transform(x_train)\n",
    "x_test = sc.transform(x_test)\n",
    "\n",
    "x_train = torch.from_numpy(x_train.astype(np.float32))\n",
    "x_test = torch.from_numpy(x_test.astype(np.float32))\n",
    "y_train = torch.from_numpy(y_train.astype(np.float32))\n",
    "y_test = torch.from_numpy(y_test.astype(np.float32))\n",
    "\n",
    "y_train = y_train.view((y_train.shape[0], 1))\n",
    "y_test = y_test.view((y_test.shape[0], 1))\n",
    "print(y_train.shape)"
   ]
  },
  {
   "cell_type": "code",
   "execution_count": 51,
   "id": "linear-squad",
   "metadata": {},
   "outputs": [],
   "source": [
    "class LogisticRegression(nn.Module):\n",
    "    \n",
    "    def __init__(self, in_features):\n",
    "        super(LogisticRegression, self).__init__()\n",
    "        self.linear = nn.Linear(in_features, 1)\n",
    "        \n",
    "    def forward(self, x):\n",
    "        y_pred = torch.sigmoid(self.linear(x))\n",
    "        return y_pred"
   ]
  },
  {
   "cell_type": "code",
   "execution_count": 54,
   "id": "alternative-square",
   "metadata": {},
   "outputs": [],
   "source": [
    "model = LogisticRegression(n_features)\n",
    "loss = nn.BCELoss()\n",
    "optimizer = torch.optim.SGD(model.parameters(),lr = 1e-1)\n",
    "num_epochs = 500"
   ]
  },
  {
   "cell_type": "code",
   "execution_count": 57,
   "id": "stuffed-latex",
   "metadata": {},
   "outputs": [
    {
     "name": "stdout",
     "output_type": "stream",
     "text": [
      "epoch:\t0, loss:\t0.07020167\n",
      "epoch:\t10, loss:\t0.06994192\n",
      "epoch:\t20, loss:\t0.06968925\n",
      "epoch:\t30, loss:\t0.06944331\n",
      "epoch:\t40, loss:\t0.06920374\n",
      "epoch:\t50, loss:\t0.06897031\n",
      "epoch:\t60, loss:\t0.06874269\n",
      "epoch:\t70, loss:\t0.06852064\n",
      "epoch:\t80, loss:\t0.06830391\n",
      "epoch:\t90, loss:\t0.06809228\n",
      "epoch:\t100, loss:\t0.06788554\n",
      "epoch:\t110, loss:\t0.06768347\n",
      "epoch:\t120, loss:\t0.06748588\n",
      "epoch:\t130, loss:\t0.06729262\n",
      "epoch:\t140, loss:\t0.06710349\n",
      "epoch:\t150, loss:\t0.06691834\n",
      "epoch:\t160, loss:\t0.06673703\n",
      "epoch:\t170, loss:\t0.06655940\n",
      "epoch:\t180, loss:\t0.06638531\n",
      "epoch:\t190, loss:\t0.06621464\n",
      "epoch:\t200, loss:\t0.06604729\n",
      "epoch:\t210, loss:\t0.06588309\n",
      "epoch:\t220, loss:\t0.06572198\n",
      "epoch:\t230, loss:\t0.06556386\n",
      "epoch:\t240, loss:\t0.06540857\n",
      "epoch:\t250, loss:\t0.06525610\n",
      "epoch:\t260, loss:\t0.06510630\n",
      "epoch:\t270, loss:\t0.06495907\n",
      "epoch:\t280, loss:\t0.06481438\n",
      "epoch:\t290, loss:\t0.06467215\n",
      "epoch:\t300, loss:\t0.06453225\n",
      "epoch:\t310, loss:\t0.06439464\n",
      "epoch:\t320, loss:\t0.06425928\n",
      "epoch:\t330, loss:\t0.06412607\n",
      "epoch:\t340, loss:\t0.06399495\n",
      "epoch:\t350, loss:\t0.06386588\n",
      "epoch:\t360, loss:\t0.06373877\n",
      "epoch:\t370, loss:\t0.06361358\n",
      "epoch:\t380, loss:\t0.06349024\n",
      "epoch:\t390, loss:\t0.06336877\n",
      "epoch:\t400, loss:\t0.06324904\n",
      "epoch:\t410, loss:\t0.06313104\n",
      "epoch:\t420, loss:\t0.06301471\n",
      "epoch:\t430, loss:\t0.06290005\n",
      "epoch:\t440, loss:\t0.06278691\n",
      "epoch:\t450, loss:\t0.06267539\n",
      "epoch:\t460, loss:\t0.06256536\n",
      "epoch:\t470, loss:\t0.06245678\n",
      "epoch:\t480, loss:\t0.06234967\n",
      "epoch:\t490, loss:\t0.06224397\n",
      "Accuracy = 0.9912\n",
      "Parameter containing:\n",
      "tensor([[-0.6903, -0.5334, -0.6405, -0.4124, -0.3045,  0.0891, -0.5070, -0.7977,\n",
      "          0.0332,  0.3723, -0.9808, -0.1343, -0.5428, -0.6624, -0.0678,  0.4691,\n",
      "          0.0703, -0.0413,  0.2059,  0.3745, -0.9663, -0.8964, -0.6227, -0.9471,\n",
      "         -0.7642, -0.1932, -0.6474, -0.7343, -0.6443, -0.1266]],\n",
      "       requires_grad=True)\n"
     ]
    }
   ],
   "source": [
    "for epoch in range(num_epochs):\n",
    "    y_pred = model(x_train)\n",
    "    l = loss(y_pred, y_train)\n",
    "    l.backward()\n",
    "    optimizer.step()\n",
    "    optimizer.zero_grad()\n",
    "    \n",
    "    if (epoch % 10 == 0):\n",
    "        print(f\"epoch:\\t{epoch}, loss:\\t{l.item():.8f}\")\n",
    "        # w,b = model.parameters()\n",
    "        # print(w)\n",
    "        \n",
    "with torch.no_grad():\n",
    "    y_pred = model(x_test)\n",
    "    y_pred_cls = y_pred.round()\n",
    "    acc = y_pred_cls.eq(y_test).sum() / float(y_test.shape[0])\n",
    "    print(f\"Accuracy = {acc:.4f}\")\n",
    "w,b = model.parameters()\n",
    "print(w)\n",
    "    "
   ]
  }
 ],
 "metadata": {
  "kernelspec": {
   "display_name": "Python 3 (ipykernel)",
   "language": "python",
   "name": "python3"
  },
  "language_info": {
   "codemirror_mode": {
    "name": "ipython",
    "version": 3
   },
   "file_extension": ".py",
   "mimetype": "text/x-python",
   "name": "python",
   "nbconvert_exporter": "python",
   "pygments_lexer": "ipython3",
   "version": "3.8.10"
  }
 },
 "nbformat": 4,
 "nbformat_minor": 5
}
