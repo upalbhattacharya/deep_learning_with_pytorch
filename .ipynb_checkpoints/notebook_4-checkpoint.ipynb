{
 "cells": [
  {
   "cell_type": "markdown",
   "id": "peaceful-genius",
   "metadata": {},
   "source": [
    "### Dataset and DataLoader"
   ]
  },
  {
   "cell_type": "code",
   "execution_count": 2,
   "id": "thousand-doctrine",
   "metadata": {},
   "outputs": [],
   "source": [
    "import torch\n",
    "import torch.nn as nn\n",
    "import torchvision\n",
    "from torch.utils.data import Dataset, DataLoader\n",
    "import numpy as np\n",
    "import math"
   ]
  },
  {
   "cell_type": "markdown",
   "id": "higher-request",
   "metadata": {},
   "source": [
    "PyTorch provides a utility for loading datasets in ```torch.util.data.Dataset```. It allows to create custom Datasets objects by subclassing ```Dataset```. The custom dataset class requires three methods:\n",
    "- ```__init__()```: For initialization\n",
    "- ```__getitem(index)```: Loads and returns **a sample** from the dataset at the given index\n",
    "- ```__len__()```: Returns the number of samples in the dataset"
   ]
  },
  {
   "cell_type": "code",
   "execution_count": 8,
   "id": "outdoor-watch",
   "metadata": {},
   "outputs": [],
   "source": [
    "class WineDataset(Dataset):\n",
    "    \n",
    "    def __init__(self): # Data Loading\n",
    "        xy = np.loadtxt(\"wine.csv\", delimiter=\",\", dtype=np.float32)\n",
    "        self.x = torch.from_numpy(xy[:, 1:])\n",
    "        self.y = torch.from_numpy(xy[:, [0]])\n",
    "        self.n_samples = xy.shape[0]\n",
    "        \n",
    "    def __getitem__(self, index):\n",
    "        return self.x[index], self.y[index]\n",
    "        \n",
    "    def __len__(self):\n",
    "        return self.n_samples"
   ]
  },
  {
   "cell_type": "code",
   "execution_count": 9,
   "id": "apparent-moisture",
   "metadata": {},
   "outputs": [
    {
     "name": "stdout",
     "output_type": "stream",
     "text": [
      "tensor([1.4230e+01, 1.7100e+00, 2.4300e+00, 1.5600e+01, 1.2700e+02, 2.8000e+00,\n",
      "        3.0600e+00, 2.8000e-01, 2.2900e+00, 5.6400e+00, 1.0400e+00, 3.9200e+00,\n",
      "        1.0650e+03]) tensor([1.])\n"
     ]
    }
   ],
   "source": [
    "dataset = WineDataset()\n",
    "first_data =dataset[0]\n",
    "features, labels = first_data\n",
    "print(features, labels)"
   ]
  },
  {
   "cell_type": "markdown",
   "id": "czech-season",
   "metadata": {},
   "source": [
    "The loaded ```Dataset``` passes one sample at a time. In training, it is usually the case where batches of data are passed at a time. To generate batches of data, the ```torch.util.data.DataLoader``` module allows us to create an iterator that generates batches of data "
   ]
  },
  {
   "cell_type": "code",
   "execution_count": 21,
   "id": "similar-morrison",
   "metadata": {},
   "outputs": [
    {
     "name": "stdout",
     "output_type": "stream",
     "text": [
      "torch.Size([32, 13]) torch.Size([32, 1])\n"
     ]
    }
   ],
   "source": [
    "dataloader = DataLoader(dataset, batch_size=32, shuffle=True, \n",
    "                       num_workers=2)\n",
    "dataiter = iter(dataloader)\n",
    "batch_x, batch_y = next(dataiter)\n",
    "print(batch_x.shape, batch_y.shape)"
   ]
  },
  {
   "cell_type": "code",
   "execution_count": 22,
   "id": "lasting-digest",
   "metadata": {},
   "outputs": [
    {
     "name": "stdout",
     "output_type": "stream",
     "text": [
      "178 6\n"
     ]
    }
   ],
   "source": [
    "num_epochs = 2\n",
    "total_samples = len(dataset)\n",
    "n_iterations = math.ceil(total_samples/32)\n",
    "print(total_samples, n_iterations)"
   ]
  },
  {
   "cell_type": "code",
   "execution_count": 24,
   "id": "external-tennis",
   "metadata": {},
   "outputs": [
    {
     "name": "stdout",
     "output_type": "stream",
     "text": [
      "0 torch.Size([32, 13]) torch.Size([32, 1])\n",
      "0 torch.Size([32, 13]) torch.Size([32, 1])\n",
      "0 torch.Size([32, 13]) torch.Size([32, 1])\n",
      "0 torch.Size([32, 13]) torch.Size([32, 1])\n",
      "0 torch.Size([32, 13]) torch.Size([32, 1])\n",
      "0 torch.Size([18, 13]) torch.Size([18, 1])\n",
      "1 torch.Size([32, 13]) torch.Size([32, 1])\n",
      "1 torch.Size([32, 13]) torch.Size([32, 1])\n",
      "1 torch.Size([32, 13]) torch.Size([32, 1])\n",
      "1 torch.Size([32, 13]) torch.Size([32, 1])\n",
      "1 torch.Size([32, 13]) torch.Size([32, 1])\n",
      "1 torch.Size([18, 13]) torch.Size([18, 1])\n"
     ]
    }
   ],
   "source": [
    "for epoch in range(num_epochs):\n",
    "    for i, (inputs, labels) in enumerate(dataloader):\n",
    "        print(epoch, inputs.shape, labels.shape)"
   ]
  },
  {
   "cell_type": "markdown",
   "id": "driven-pointer",
   "metadata": {},
   "source": [
    "PyTorch provides several transformations that can be utilized in conjunction with the ```Dataset``` utility to apply transformations to data as they are loaded. These can be found under ```torchvision.transforms```."
   ]
  },
  {
   "cell_type": "code",
   "execution_count": 25,
   "id": "promising-warrior",
   "metadata": {},
   "outputs": [],
   "source": [
    "import torchvision"
   ]
  },
  {
   "cell_type": "markdown",
   "id": "similar-timer",
   "metadata": {},
   "source": [
    "PyTorch provides several transformations on its own. However, writing one is fairly simple. It requires writing a class with an implemented ```__call__(self, sample)``` method that applies the transformation. This can then be passed to the ```transform``` argument of the ```Dataset``` object."
   ]
  },
  {
   "cell_type": "code",
   "execution_count": 27,
   "id": "packed-drama",
   "metadata": {},
   "outputs": [],
   "source": [
    "class MulTransform:\n",
    "    def __init__(self, factor):\n",
    "        self.factor = factor\n",
    "        \n",
    "    def __call__(self, sample):\n",
    "        inputs, targets = sample\n",
    "        inputs *= self.factor\n",
    "        return inputs, targets\n",
    "    \n",
    "class ToTensor:\n",
    "    def __init__(self):\n",
    "        pass\n",
    "    \n",
    "    def __call__(self, sample):\n",
    "        inputs, targets = sample\n",
    "        return torch.from_numpy(inputs), torch.from_numpy(targets)"
   ]
  },
  {
   "cell_type": "markdown",
   "id": "residential-participant",
   "metadata": {},
   "source": [
    "Several transformations can be chained together using ```torchvision.transforms.Compose```"
   ]
  },
  {
   "cell_type": "code",
   "execution_count": 31,
   "id": "first-indianapolis",
   "metadata": {},
   "outputs": [],
   "source": [
    "composed = torchvision.transforms.Compose([ToTensor(), MulTransform(factor=10)])"
   ]
  }
 ],
 "metadata": {
  "kernelspec": {
   "display_name": "Python 3 (ipykernel)",
   "language": "python",
   "name": "python3"
  },
  "language_info": {
   "codemirror_mode": {
    "name": "ipython",
    "version": 3
   },
   "file_extension": ".py",
   "mimetype": "text/x-python",
   "name": "python",
   "nbconvert_exporter": "python",
   "pygments_lexer": "ipython3",
   "version": "3.8.10"
  }
 },
 "nbformat": 4,
 "nbformat_minor": 5
}
