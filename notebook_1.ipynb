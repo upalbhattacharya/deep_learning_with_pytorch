{
 "cells": [
  {
   "cell_type": "code",
   "execution_count": 1,
   "id": "widespread-shareware",
   "metadata": {},
   "outputs": [],
   "source": [
    "import torch"
   ]
  },
  {
   "cell_type": "markdown",
   "id": "confident-limit",
   "metadata": {},
   "source": [
    "Creating an empty tensor.\n",
    "<a href=\"https://pytorch.org/docs/stable/generated/torch.empty.html#torch.empty\">Click here for method empty documentation </a>\n",
    "\n",
    "From PyTorch website:\n",
    "**Returns a tensor filled with uninitialized data. The shape of the tensor is defined by the variable argument size.**"
   ]
  },
  {
   "cell_type": "code",
   "execution_count": 2,
   "id": "southern-retrieval",
   "metadata": {},
   "outputs": [],
   "source": [
    "x = torch.empty(size=(3,))"
   ]
  },
  {
   "cell_type": "code",
   "execution_count": 3,
   "id": "infectious-diamond",
   "metadata": {},
   "outputs": [
    {
     "data": {
      "text/plain": [
       "tensor([2.6375e+23, 7.7151e+31, 1.6907e-01])"
      ]
     },
     "execution_count": 3,
     "metadata": {},
     "output_type": "execute_result"
    }
   ],
   "source": [
    "x"
   ]
  },
  {
   "cell_type": "markdown",
   "id": "random-utilization",
   "metadata": {},
   "source": [
    "Other methods for creation of different types of tensors:\n",
    "- ```torch.zeros()```\n",
    "- ```torch.ones()```"
   ]
  },
  {
   "cell_type": "code",
   "execution_count": 6,
   "id": "administrative-graphics",
   "metadata": {},
   "outputs": [],
   "source": [
    "x = torch.ones(size=(2,2), dtype=torch.float16)"
   ]
  },
  {
   "cell_type": "markdown",
   "id": "other-cycling",
   "metadata": {},
   "source": [
    "Seeing the size of a Tensor:"
   ]
  },
  {
   "cell_type": "code",
   "execution_count": 7,
   "id": "sized-syndicate",
   "metadata": {},
   "outputs": [
    {
     "name": "stdout",
     "output_type": "stream",
     "text": [
      "torch.Size([2, 2])\n"
     ]
    }
   ],
   "source": [
    "print(x.size())"
   ]
  },
  {
   "cell_type": "markdown",
   "id": "apart-fleet",
   "metadata": {},
   "source": [
    "Creation of Tensor from python list:"
   ]
  },
  {
   "cell_type": "code",
   "execution_count": 8,
   "id": "naked-blocking",
   "metadata": {},
   "outputs": [
    {
     "name": "stdout",
     "output_type": "stream",
     "text": [
      "tensor([ 2.5000, 10.0000,  0.3334])\n"
     ]
    }
   ],
   "source": [
    "x = torch.tensor([2.5, 10, 0.3334])\n",
    "print(x)"
   ]
  },
  {
   "cell_type": "markdown",
   "id": "single-sally",
   "metadata": {},
   "source": [
    "**Arithmetic operations using Tensors:**"
   ]
  },
  {
   "cell_type": "code",
   "execution_count": 9,
   "id": "dirty-broadway",
   "metadata": {},
   "outputs": [],
   "source": [
    "x = torch.randn(size=(2,2))\n",
    "y= torch.randn(size=(2,2))"
   ]
  },
  {
   "cell_type": "code",
   "execution_count": 10,
   "id": "patient-somerset",
   "metadata": {},
   "outputs": [
    {
     "name": "stdout",
     "output_type": "stream",
     "text": [
      "tensor([[-0.2813,  1.1203],\n",
      "        [-0.5424,  0.5632]])\n"
     ]
    }
   ],
   "source": [
    "z = x + y\n",
    "print(z)"
   ]
  },
  {
   "cell_type": "code",
   "execution_count": 13,
   "id": "flush-anxiety",
   "metadata": {},
   "outputs": [
    {
     "name": "stdout",
     "output_type": "stream",
     "text": [
      "tensor([[-0.2813,  1.1203],\n",
      "        [-0.5424,  0.5632]])\n"
     ]
    }
   ],
   "source": [
    "z = torch.add(x, y) # equivalent to the previous\n",
    "print(z)"
   ]
  },
  {
   "cell_type": "markdown",
   "id": "heavy-marshall",
   "metadata": {},
   "source": [
    "In-place addition: "
   ]
  },
  {
   "cell_type": "code",
   "execution_count": 14,
   "id": "approved-consultation",
   "metadata": {},
   "outputs": [
    {
     "data": {
      "text/plain": [
       "tensor([[-0.2813,  1.1203],\n",
       "        [-0.5424,  0.5632]])"
      ]
     },
     "execution_count": 14,
     "metadata": {},
     "output_type": "execute_result"
    }
   ],
   "source": [
    "y.add_(x)"
   ]
  },
  {
   "cell_type": "markdown",
   "id": "friendly-vault",
   "metadata": {},
   "source": [
    "**NOTE: Every method in PyTorch with a trailing underscore does the operation in-place.**"
   ]
  },
  {
   "cell_type": "code",
   "execution_count": 15,
   "id": "finnish-crime",
   "metadata": {},
   "outputs": [
    {
     "name": "stdout",
     "output_type": "stream",
     "text": [
      "tensor([[ 0.2043, -0.1045],\n",
      "        [-0.0536, -0.8209]])\n",
      "tensor([[ 0.2043, -0.1045],\n",
      "        [-0.0536, -0.8209]])\n"
     ]
    }
   ],
   "source": [
    "z = x - y\n",
    "print(z)\n",
    "z = torch.sub(x,y)\n",
    "print(z)\n"
   ]
  },
  {
   "cell_type": "code",
   "execution_count": 16,
   "id": "sunrise-elephant",
   "metadata": {},
   "outputs": [
    {
     "name": "stdout",
     "output_type": "stream",
     "text": [
      "tensor([[ 0.0217,  1.1380],\n",
      "        [ 0.3233, -0.1451]])\n",
      "tensor([[ 0.0217,  1.1380],\n",
      "        [ 0.3233, -0.1451]])\n"
     ]
    }
   ],
   "source": [
    "z = x * y\n",
    "print(z)\n",
    "z = torch.mul(x,y)\n",
    "print(z)"
   ]
  },
  {
   "cell_type": "code",
   "execution_count": 17,
   "id": "undefined-norwegian",
   "metadata": {},
   "outputs": [
    {
     "name": "stdout",
     "output_type": "stream",
     "text": [
      "tensor([[ 0.2737,  0.9067],\n",
      "        [ 1.0987, -0.4574]])\n",
      "tensor([[ 0.2737,  0.9067],\n",
      "        [ 1.0987, -0.4574]])\n"
     ]
    }
   ],
   "source": [
    "z = x / y\n",
    "print(z)\n",
    "z = torch.div(x,y)\n",
    "print(z)"
   ]
  },
  {
   "cell_type": "markdown",
   "id": "peripheral-ethics",
   "metadata": {},
   "source": [
    "The above operations have their in-place variants as:\n",
    "- ```y.sub_(x)```\n",
    "- ```y.mul_(x)```\n",
    "- ```y.div_(x)```"
   ]
  },
  {
   "cell_type": "markdown",
   "id": "agricultural-literature",
   "metadata": {},
   "source": [
    "**NOTE: Tensor slicing works in the same manner as with numpy.ndarrays.**"
   ]
  },
  {
   "cell_type": "code",
   "execution_count": 18,
   "id": "empirical-senior",
   "metadata": {},
   "outputs": [],
   "source": [
    "x = torch.randn(size=(100,132,5000))"
   ]
  },
  {
   "cell_type": "code",
   "execution_count": 19,
   "id": "favorite-booking",
   "metadata": {},
   "outputs": [
    {
     "data": {
      "text/plain": [
       "tensor([[ 0.2358, -0.6500,  0.5315,  ..., -0.9062, -2.2201, -0.0364],\n",
       "        [-1.2272, -1.6324, -0.9647,  ...,  1.9829,  1.0612, -1.4743],\n",
       "        [ 0.7078, -0.9019, -0.3429,  ..., -0.2102, -0.8732, -1.1534],\n",
       "        ...,\n",
       "        [-0.4683, -0.1054,  0.7266,  ...,  0.8407,  0.2805, -2.4626],\n",
       "        [-1.0119,  1.3314,  1.6888,  ..., -0.4526, -1.0645,  0.9206],\n",
       "        [ 0.5835,  0.0640,  1.1103,  ..., -1.4540, -0.4618,  1.3075]])"
      ]
     },
     "execution_count": 19,
     "metadata": {},
     "output_type": "execute_result"
    }
   ],
   "source": [
    "x[1,:,:]"
   ]
  },
  {
   "cell_type": "code",
   "execution_count": 21,
   "id": "annual-phoenix",
   "metadata": {},
   "outputs": [
    {
     "data": {
      "text/plain": [
       "torch.Size([])"
      ]
     },
     "execution_count": 21,
     "metadata": {},
     "output_type": "execute_result"
    }
   ],
   "source": [
    "x[1,1,1].size()"
   ]
  },
  {
   "cell_type": "code",
   "execution_count": 23,
   "id": "classified-premiere",
   "metadata": {},
   "outputs": [
    {
     "data": {
      "text/plain": [
       "torch.Size([])"
      ]
     },
     "execution_count": 23,
     "metadata": {},
     "output_type": "execute_result"
    }
   ],
   "source": [
    "x[1,1,1].shape # Also works"
   ]
  },
  {
   "cell_type": "markdown",
   "id": "former-representation",
   "metadata": {},
   "source": [
    "When a Tensor is a singular value Tensor, the Tensor value can be retrieved using the ```tensor.item()``` method."
   ]
  },
  {
   "cell_type": "code",
   "execution_count": 25,
   "id": "chief-august",
   "metadata": {},
   "outputs": [
    {
     "name": "stdout",
     "output_type": "stream",
     "text": [
      "tensor(-1.6324)\n"
     ]
    },
    {
     "data": {
      "text/plain": [
       "-1.6324018239974976"
      ]
     },
     "execution_count": 25,
     "metadata": {},
     "output_type": "execute_result"
    }
   ],
   "source": [
    "print(x[1,1,1])\n",
    "x[1,1,1].item()"
   ]
  },
  {
   "cell_type": "markdown",
   "id": "administrative-learning",
   "metadata": {},
   "source": [
    "Tensor reshaping:"
   ]
  },
  {
   "cell_type": "code",
   "execution_count": 26,
   "id": "current-generic",
   "metadata": {},
   "outputs": [],
   "source": [
    "x = torch.randn(4,4)\n",
    "y = x.view(2,2,2,2)"
   ]
  },
  {
   "cell_type": "markdown",
   "id": "robust-geneva",
   "metadata": {},
   "source": [
    "```view()``` **returns a view of the Tensor and thus avoids creating copies.**"
   ]
  },
  {
   "cell_type": "code",
   "execution_count": 27,
   "id": "durable-identity",
   "metadata": {},
   "outputs": [
    {
     "name": "stdout",
     "output_type": "stream",
     "text": [
      "tensor([[-0.4208, -0.9172,  0.1040, -2.8627],\n",
      "        [-0.2485, -0.4792, -2.6743,  1.3489],\n",
      "        [-1.9212, -0.2208, -0.0134, -0.4728],\n",
      "        [ 0.6069, -0.3046,  1.8257,  1.6756]])\n",
      "tensor([[[[-0.4208, -0.9172],\n",
      "          [ 0.1040, -2.8627]],\n",
      "\n",
      "         [[-0.2485, -0.4792],\n",
      "          [-2.6743,  1.3489]]],\n",
      "\n",
      "\n",
      "        [[[-1.9212, -0.2208],\n",
      "          [-0.0134, -0.4728]],\n",
      "\n",
      "         [[ 0.6069, -0.3046],\n",
      "          [ 1.8257,  1.6756]]]])\n"
     ]
    }
   ],
   "source": [
    "print(x)\n",
    "print(y)"
   ]
  },
  {
   "cell_type": "markdown",
   "id": "varied-advisory",
   "metadata": {},
   "source": [
    "PyTorch can assess and choose the right values to put in when reshaping with the ```view()``` method. For this, the corresponding co-ordinate should be given a value ```-1```."
   ]
  },
  {
   "cell_type": "code",
   "execution_count": 33,
   "id": "fossil-coverage",
   "metadata": {},
   "outputs": [
    {
     "name": "stdout",
     "output_type": "stream",
     "text": [
      "torch.Size([4, 2, 2])\n",
      "torch.Size([8, 2])\n"
     ]
    }
   ],
   "source": [
    "y = x.view(-1,2,2)\n",
    "print(y.shape)\n",
    "y = x.view(8,-1)\n",
    "print(y.shape)"
   ]
  },
  {
   "cell_type": "markdown",
   "id": "norwegian-mexican",
   "metadata": {},
   "source": [
    "**Converting Tensor to numpy array**"
   ]
  },
  {
   "cell_type": "code",
   "execution_count": 37,
   "id": "textile-catch",
   "metadata": {},
   "outputs": [
    {
     "name": "stdout",
     "output_type": "stream",
     "text": [
      "<class 'torch.Tensor'>\n",
      "<class 'numpy.ndarray'>\n",
      "tensor([[[-0.3816, -1.2824, -1.6612],\n",
      "         [-0.0831, -1.4323, -0.7394],\n",
      "         [ 1.4846, -1.3950,  0.0084],\n",
      "         [-1.1279,  0.2794, -1.2952],\n",
      "         [-1.0867,  0.9348, -0.5619],\n",
      "         [-0.9814, -0.8195,  0.7598],\n",
      "         [ 0.0121,  0.4592, -0.3099],\n",
      "         [ 0.7405,  0.2242, -0.6372],\n",
      "         [-0.2787, -0.3572,  0.9262],\n",
      "         [ 0.0291, -0.5116, -0.4648]],\n",
      "\n",
      "        [[ 1.6548, -1.2968,  0.6993],\n",
      "         [ 0.3720,  0.5347, -0.3335],\n",
      "         [-0.8052, -0.2729,  0.7149],\n",
      "         [-0.6778, -0.5882, -0.3778],\n",
      "         [-0.9205,  1.5935,  0.4914],\n",
      "         [ 0.8758,  2.1584, -0.6399],\n",
      "         [ 0.4236,  0.6466,  0.4569],\n",
      "         [-0.2111,  0.4390,  1.0307],\n",
      "         [ 0.1731, -1.4508, -0.1941],\n",
      "         [ 0.8181, -0.8270,  0.8879]],\n",
      "\n",
      "        [[ 1.2151, -0.4768, -0.6689],\n",
      "         [ 1.1004,  0.3609, -0.0204],\n",
      "         [-2.3171,  0.1265, -0.9437],\n",
      "         [ 1.4863, -0.7191, -0.4645],\n",
      "         [ 0.3973,  0.3477, -0.6401],\n",
      "         [ 1.2459, -0.5106,  1.1260],\n",
      "         [-2.6531, -0.1555, -0.1459],\n",
      "         [-1.5479,  1.4689, -0.4167],\n",
      "         [ 0.5153, -0.1376, -0.7489],\n",
      "         [-0.1680, -0.7750, -0.1348]],\n",
      "\n",
      "        [[-0.3292,  0.1622,  1.5152],\n",
      "         [ 1.0956, -1.6674,  0.1602],\n",
      "         [ 1.7373,  0.7700,  0.2801],\n",
      "         [-0.8702,  1.7007,  0.4036],\n",
      "         [ 1.6950,  1.9646,  0.4212],\n",
      "         [ 1.4511, -0.7039,  1.3569],\n",
      "         [ 0.7210,  1.4622,  0.4786],\n",
      "         [ 1.1527, -0.4382, -0.7661],\n",
      "         [-0.8426,  0.2227, -0.6114],\n",
      "         [-0.6155,  0.1528,  0.4033]],\n",
      "\n",
      "        [[-1.1267,  0.6464,  0.9493],\n",
      "         [-0.6907, -2.1046,  0.6727],\n",
      "         [-0.2079, -0.7246,  0.2551],\n",
      "         [ 1.9079,  2.5971, -1.8093],\n",
      "         [ 0.8178,  0.4208, -0.8783],\n",
      "         [ 0.1753,  1.0394, -1.0828],\n",
      "         [ 0.8478,  1.5769, -1.2668],\n",
      "         [-0.1737, -1.3191,  0.6178],\n",
      "         [ 0.2064, -0.8395, -0.1563],\n",
      "         [-1.6207,  0.0378, -0.3603]],\n",
      "\n",
      "        [[ 0.2078, -0.1184, -0.6718],\n",
      "         [ 0.5767, -0.3055,  0.9115],\n",
      "         [-0.7543, -1.5165, -0.6679],\n",
      "         [ 1.7283, -0.4676, -0.4539],\n",
      "         [-1.4204,  1.2852,  1.1916],\n",
      "         [ 1.0148,  1.5340,  0.8298],\n",
      "         [ 0.4897, -1.3146,  0.9694],\n",
      "         [ 0.5392,  1.0770, -0.7314],\n",
      "         [-0.8770,  0.3258, -0.1278],\n",
      "         [-0.4872, -0.1503, -0.0164]],\n",
      "\n",
      "        [[ 1.5750, -1.7680,  0.5028],\n",
      "         [ 0.5045,  0.9923,  0.9362],\n",
      "         [ 0.1819, -0.6328,  0.2034],\n",
      "         [-0.6464, -0.0448,  1.3043],\n",
      "         [ 0.9836, -1.8752,  0.6575],\n",
      "         [ 0.8833, -1.4779,  0.0051],\n",
      "         [-0.3114, -0.9871,  0.9586],\n",
      "         [ 0.4160,  0.9457,  0.6697],\n",
      "         [-1.0298,  0.0329, -0.1477],\n",
      "         [-1.4255, -0.0532,  0.4212]],\n",
      "\n",
      "        [[-0.9348, -1.2366, -0.1796],\n",
      "         [-0.1310,  1.4417,  0.9542],\n",
      "         [-1.4012, -1.2223, -1.6684],\n",
      "         [-1.2592,  0.3563, -1.1140],\n",
      "         [-0.1826, -0.8760,  1.2713],\n",
      "         [ 1.0529, -0.6280,  0.4670],\n",
      "         [ 0.7699,  1.6002,  1.5628],\n",
      "         [-1.6640,  1.7917, -1.5664],\n",
      "         [-0.9359, -0.6419,  0.9788],\n",
      "         [-0.1869, -0.5215,  0.3444]],\n",
      "\n",
      "        [[-0.7291, -1.3033,  0.4457],\n",
      "         [ 0.5590, -1.3541, -0.0507],\n",
      "         [ 1.0405,  0.5186, -0.0491],\n",
      "         [-1.2707,  0.3416, -0.2291],\n",
      "         [-0.0886, -0.3422,  0.8682],\n",
      "         [-0.5533, -0.8028, -0.7653],\n",
      "         [-0.0911, -0.3739,  0.8292],\n",
      "         [ 3.2729,  0.3753,  0.3843],\n",
      "         [-0.2641,  0.2590,  0.4431],\n",
      "         [ 0.6637, -0.4516,  0.9620]],\n",
      "\n",
      "        [[ 0.9645,  2.8918,  0.7662],\n",
      "         [ 2.2944, -0.5144, -0.3365],\n",
      "         [ 1.9602,  0.7960,  0.6373],\n",
      "         [ 0.0591, -1.3817, -0.3139],\n",
      "         [-0.5960,  2.5897,  0.3537],\n",
      "         [-0.1871, -0.0411, -0.7906],\n",
      "         [ 0.6138,  2.1501, -0.0369],\n",
      "         [ 1.2437, -0.8358,  0.3429],\n",
      "         [ 0.2862,  0.7018, -1.1126],\n",
      "         [-0.1075, -0.4338, -0.2734]]])\n",
      "[[[-0.38159144 -1.2824264  -1.6612036 ]\n",
      "  [-0.08305627 -1.4322757  -0.73944855]\n",
      "  [ 1.4845984  -1.395045    0.00836387]\n",
      "  [-1.1278611   0.27940795 -1.2952054 ]\n",
      "  [-1.0866656   0.93483984 -0.561907  ]\n",
      "  [-0.981429   -0.8195403   0.7598474 ]\n",
      "  [ 0.01214746  0.45917636 -0.30994478]\n",
      "  [ 0.74053806  0.22420578 -0.63721466]\n",
      "  [-0.27867848 -0.35720044  0.92618966]\n",
      "  [ 0.0290947  -0.5115929  -0.46475655]]\n",
      "\n",
      " [[ 1.6548316  -1.2967793   0.69931966]\n",
      "  [ 0.37198818  0.5346501  -0.33351034]\n",
      "  [-0.8051511  -0.2729181   0.7149368 ]\n",
      "  [-0.67779404 -0.588179   -0.37776756]\n",
      "  [-0.92054695  1.5935339   0.49144927]\n",
      "  [ 0.8757947   2.1583788  -0.6399372 ]\n",
      "  [ 0.42359105  0.6465994   0.45692074]\n",
      "  [-0.21108586  0.43903774  1.0307003 ]\n",
      "  [ 0.17313221 -1.4507844  -0.19414756]\n",
      "  [ 0.8181297  -0.8270195   0.88786715]]\n",
      "\n",
      " [[ 1.2150549  -0.47682363 -0.66888803]\n",
      "  [ 1.1003717   0.3608856  -0.020357  ]\n",
      "  [-2.3171134   0.12646234 -0.9436925 ]\n",
      "  [ 1.486322   -0.71910405 -0.46447578]\n",
      "  [ 0.39728034  0.34773162 -0.6400819 ]\n",
      "  [ 1.2458931  -0.5106467   1.1260313 ]\n",
      "  [-2.6531494  -0.15549955 -0.14594547]\n",
      "  [-1.547911    1.4689475  -0.41666844]\n",
      "  [ 0.5152834  -0.1375973  -0.7488518 ]\n",
      "  [-0.16796823 -0.7750371  -0.1347982 ]]\n",
      "\n",
      " [[-0.32919002  0.1621729   1.5151815 ]\n",
      "  [ 1.0955836  -1.6673645   0.16015151]\n",
      "  [ 1.737336    0.76997536  0.28008154]\n",
      "  [-0.8702174   1.7007073   0.4035855 ]\n",
      "  [ 1.6950449   1.9646037   0.42124265]\n",
      "  [ 1.4510792  -0.7038792   1.3568991 ]\n",
      "  [ 0.7210381   1.4622474   0.4786235 ]\n",
      "  [ 1.152671   -0.43822426 -0.76606655]\n",
      "  [-0.84261864  0.222741   -0.611369  ]\n",
      "  [-0.61546123  0.15280867  0.40332368]]\n",
      "\n",
      " [[-1.1266674   0.6464406   0.9493395 ]\n",
      "  [-0.6906557  -2.104585    0.6726606 ]\n",
      "  [-0.20791845 -0.7246298   0.25514483]\n",
      "  [ 1.9078693   2.5970893  -1.8092612 ]\n",
      "  [ 0.81776524  0.42076588 -0.8782912 ]\n",
      "  [ 0.17534995  1.0393533  -1.0827515 ]\n",
      "  [ 0.84780467  1.576913   -1.2668413 ]\n",
      "  [-0.17365494 -1.319078    0.61783487]\n",
      "  [ 0.20641111 -0.83949083 -0.15628439]\n",
      "  [-1.6206992   0.03778991 -0.36030942]]\n",
      "\n",
      " [[ 0.20783596 -0.11839918 -0.6718442 ]\n",
      "  [ 0.5766904  -0.3055487   0.9115022 ]\n",
      "  [-0.7542646  -1.5165118  -0.667869  ]\n",
      "  [ 1.7283283  -0.46760643 -0.45394507]\n",
      "  [-1.4203831   1.2851883   1.1916063 ]\n",
      "  [ 1.0148079   1.5339777   0.8298107 ]\n",
      "  [ 0.48968327 -1.3145796   0.9693679 ]\n",
      "  [ 0.53918463  1.0770054  -0.7313595 ]\n",
      "  [-0.8769831   0.32580802 -0.12780039]\n",
      "  [-0.487164   -0.15029067 -0.01644055]]\n",
      "\n",
      " [[ 1.5749568  -1.7679625   0.50275487]\n",
      "  [ 0.5044656   0.99232525  0.9361542 ]\n",
      "  [ 0.18191911 -0.63275474  0.20335892]\n",
      "  [-0.6464092  -0.04483304  1.3043247 ]\n",
      "  [ 0.9836309  -1.8752096   0.65753263]\n",
      "  [ 0.88331187 -1.4779242   0.00510172]\n",
      "  [-0.31140536 -0.9871466   0.95862985]\n",
      "  [ 0.41601923  0.9457402   0.6696844 ]\n",
      "  [-1.0297592   0.03285162 -0.14773007]\n",
      "  [-1.4254676  -0.05315801  0.42124787]]\n",
      "\n",
      " [[-0.9347724  -1.2365519  -0.17958146]\n",
      "  [-0.1309969   1.4417223   0.9542109 ]\n",
      "  [-1.4012452  -1.2222904  -1.6684126 ]\n",
      "  [-1.2591861   0.35631534 -1.1140223 ]\n",
      "  [-0.18260317 -0.8759573   1.2712686 ]\n",
      "  [ 1.0529405  -0.62803286  0.46704385]\n",
      "  [ 0.76986957  1.6001738   1.5628304 ]\n",
      "  [-1.6640278   1.7917117  -1.5664258 ]\n",
      "  [-0.9359334  -0.64191973  0.9788238 ]\n",
      "  [-0.18686484 -0.5215114   0.34441987]]\n",
      "\n",
      " [[-0.72911364 -1.3032925   0.44568217]\n",
      "  [ 0.5590177  -1.3541101  -0.05066095]\n",
      "  [ 1.0405272   0.51864606 -0.04907873]\n",
      "  [-1.2707084   0.3415912  -0.22907946]\n",
      "  [-0.08863661 -0.34223238  0.86824834]\n",
      "  [-0.5533164  -0.8028445  -0.7653016 ]\n",
      "  [-0.09112155 -0.37392214  0.8292258 ]\n",
      "  [ 3.2728817   0.37534553  0.38427874]\n",
      "  [-0.2641131   0.25896162  0.44314948]\n",
      "  [ 0.6637015  -0.45158368  0.9619985 ]]\n",
      "\n",
      " [[ 0.9645427   2.8918297   0.7662112 ]\n",
      "  [ 2.294437   -0.5143863  -0.33646864]\n",
      "  [ 1.9602389   0.79604113  0.63725454]\n",
      "  [ 0.05912859 -1.3817331  -0.3138712 ]\n",
      "  [-0.59596884  2.5896838   0.35371462]\n",
      "  [-0.18710308 -0.04111966 -0.7905703 ]\n",
      "  [ 0.613755    2.1500974  -0.03690026]\n",
      "  [ 1.2437228  -0.8358223   0.3428989 ]\n",
      "  [ 0.2862137   0.7017626  -1.1126099 ]\n",
      "  [-0.10750312 -0.433791   -0.27339002]]]\n"
     ]
    }
   ],
   "source": [
    "a = torch.randn(size=(10,10,3))\n",
    "b = a.numpy()\n",
    "print(type(x))\n",
    "print(type(b))\n",
    "print(a)\n",
    "print(b)"
   ]
  },
  {
   "cell_type": "markdown",
   "id": "innocent-torture",
   "metadata": {},
   "source": [
    "The ```numpy()``` method returns a numpy version of the Tensor with both the numpy array and the tensor sharing the same underlying memory. As a result, **changes to one are reflected in the other.**"
   ]
  },
  {
   "cell_type": "markdown",
   "id": "aboriginal-finland",
   "metadata": {},
   "source": [
    "Conversion of numpy array to Tensor"
   ]
  },
  {
   "cell_type": "code",
   "execution_count": 38,
   "id": "outstanding-scene",
   "metadata": {},
   "outputs": [],
   "source": [
    "import numpy as np"
   ]
  },
  {
   "cell_type": "code",
   "execution_count": 40,
   "id": "rough-crowd",
   "metadata": {},
   "outputs": [
    {
     "name": "stdout",
     "output_type": "stream",
     "text": [
      "[[1. 1. 1. 1. 1. 1. 1. 1. 1. 1.]\n",
      " [1. 1. 1. 1. 1. 1. 1. 1. 1. 1.]\n",
      " [1. 1. 1. 1. 1. 1. 1. 1. 1. 1.]\n",
      " [1. 1. 1. 1. 1. 1. 1. 1. 1. 1.]\n",
      " [1. 1. 1. 1. 1. 1. 1. 1. 1. 1.]]\n",
      "tensor([[1., 1., 1., 1., 1., 1., 1., 1., 1., 1.],\n",
      "        [1., 1., 1., 1., 1., 1., 1., 1., 1., 1.],\n",
      "        [1., 1., 1., 1., 1., 1., 1., 1., 1., 1.],\n",
      "        [1., 1., 1., 1., 1., 1., 1., 1., 1., 1.],\n",
      "        [1., 1., 1., 1., 1., 1., 1., 1., 1., 1.]], dtype=torch.float64)\n"
     ]
    }
   ],
   "source": [
    "a = np.ones((5,10))\n",
    "b = torch.from_numpy(a)\n",
    "print(a)\n",
    "print(b)"
   ]
  },
  {
   "cell_type": "markdown",
   "id": "horizontal-hobby",
   "metadata": {},
   "source": [
    "Similar to the ```numpy()``` method, when converting a numpy array to a PyTorch Tensor using the ```from_numpy()``` method, both the numpy array and the PyTorch tensor share the same underlying memory storage and thus changes in one are reflected in the other."
   ]
  },
  {
   "cell_type": "markdown",
   "id": "dental-mechanics",
   "metadata": {},
   "source": [
    "**By default, tensors are created on the CPU. We need to explicitly move tensors to the GPU using** ```to()``` **method (after checking for GPU availability).** "
   ]
  },
  {
   "cell_type": "code",
   "execution_count": 62,
   "id": "better-lawyer",
   "metadata": {},
   "outputs": [],
   "source": [
    "if (torch.cuda.is_available()): # Checking to see if CUDA is available\n",
    "    device = \"cuda\"\n",
    "    \n",
    "x = torch.randn(size=(10,10)) # Creation of tensor on CPU\n",
    "x = x.to(device=device) # Sending to GPU\n",
    "# Alternative way\n",
    "y = torch.randn(size=(10,10), device=device)"
   ]
  },
  {
   "cell_type": "code",
   "execution_count": 63,
   "id": "biological-shepherd",
   "metadata": {},
   "outputs": [
    {
     "data": {
      "text/plain": [
       "True"
      ]
     },
     "execution_count": 63,
     "metadata": {},
     "output_type": "execute_result"
    }
   ],
   "source": [
    "torch.cuda.is_available()"
   ]
  },
  {
   "cell_type": "markdown",
   "id": "clear-services",
   "metadata": {},
   "source": [
    "Once the tensors have been sent to the GPU, all operations like arithmetic operations take place on the GPU"
   ]
  },
  {
   "cell_type": "code",
   "execution_count": 64,
   "id": "centered-horizontal",
   "metadata": {},
   "outputs": [],
   "source": [
    "z = x + y # Happens on the GPU"
   ]
  },
  {
   "cell_type": "markdown",
   "id": "corrected-flash",
   "metadata": {},
   "source": [
    "The location of a tensor can be found by using the attribute ```device```."
   ]
  },
  {
   "cell_type": "code",
   "execution_count": 65,
   "id": "alone-battle",
   "metadata": {},
   "outputs": [
    {
     "data": {
      "text/plain": [
       "device(type='cuda', index=0)"
      ]
     },
     "execution_count": 65,
     "metadata": {},
     "output_type": "execute_result"
    }
   ],
   "source": [
    "z.device"
   ]
  },
  {
   "cell_type": "markdown",
   "id": "weird-essex",
   "metadata": {},
   "source": [
    "Operations that happen on the GPU need to be brought back to the CPU before running methods like ```numpy()```"
   ]
  },
  {
   "cell_type": "code",
   "execution_count": 55,
   "id": "second-hayes",
   "metadata": {},
   "outputs": [
    {
     "ename": "TypeError",
     "evalue": "can't convert cuda:0 device type tensor to numpy. Use Tensor.cpu() to copy the tensor to host memory first.",
     "output_type": "error",
     "traceback": [
      "\u001b[0;31m---------------------------------------------------------------------------\u001b[0m",
      "\u001b[0;31mTypeError\u001b[0m                                 Traceback (most recent call last)",
      "\u001b[0;32m<ipython-input-55-d704267922c1>\u001b[0m in \u001b[0;36m<module>\u001b[0;34m\u001b[0m\n\u001b[0;32m----> 1\u001b[0;31m \u001b[0mprint\u001b[0m\u001b[0;34m(\u001b[0m\u001b[0mz\u001b[0m\u001b[0;34m.\u001b[0m\u001b[0mnumpy\u001b[0m\u001b[0;34m(\u001b[0m\u001b[0;34m)\u001b[0m\u001b[0;34m)\u001b[0m \u001b[0;31m# Will give an error\u001b[0m\u001b[0;34m\u001b[0m\u001b[0;34m\u001b[0m\u001b[0m\n\u001b[0m",
      "\u001b[0;31mTypeError\u001b[0m: can't convert cuda:0 device type tensor to numpy. Use Tensor.cpu() to copy the tensor to host memory first."
     ]
    }
   ],
   "source": [
    "print(z.numpy()) # Will give an error"
   ]
  },
  {
   "cell_type": "code",
   "execution_count": 66,
   "id": "developmental-tension",
   "metadata": {},
   "outputs": [
    {
     "name": "stdout",
     "output_type": "stream",
     "text": [
      "[[-1.9107435  -1.0269952   0.78694713 -0.20018211 -1.0658135  -2.431517\n",
      "   1.7864159  -2.3664114  -0.492198   -1.0681115 ]\n",
      " [-0.18229055  0.39429268  0.36082432  0.3743679   0.7166478   2.4793732\n",
      "   0.06571215 -0.3771691  -0.12618646  1.3240776 ]\n",
      " [ 1.9882839   0.85111344 -1.1918864  -1.7169327   2.0596673   0.783268\n",
      "  -0.3950218  -0.66973704  0.56594586 -1.2584015 ]\n",
      " [-0.15199268 -1.2427592   0.34856233  1.6574664  -1.2485403   0.19534439\n",
      "   2.3403075  -1.9966812  -0.09700489 -0.4519673 ]\n",
      " [ 0.8226581  -0.6442307   1.2699144   0.8699666   1.6510117   0.6535593\n",
      "  -0.261707   -1.7471826   1.5638796  -0.6515244 ]\n",
      " [-2.135964    0.22822833  3.1701035   0.62029797  0.79136646  1.6538761\n",
      "   0.02955759 -0.11354476 -0.39766452 -0.04121625]\n",
      " [ 0.09798288  0.7262953  -0.58711135  0.2212084  -0.96345407  0.61037517\n",
      "  -2.9626586   0.81597114 -2.6804159  -0.9554819 ]\n",
      " [ 0.807141   -1.092869    0.363069   -1.0929614  -0.25693125  1.8781968\n",
      "  -2.8978422   0.9600068  -2.13676    -0.63175356]\n",
      " [ 0.18078089 -2.7352195   2.338288    1.3655437   0.6752162  -1.8721104\n",
      "   0.8239646  -2.1019535  -1.0768017  -1.8873906 ]\n",
      " [ 1.6935532  -1.3397093   0.73511314 -1.1698358   0.59584004  0.6098385\n",
      "  -0.9495006  -2.7800493  -1.5563103   1.4009348 ]]\n"
     ]
    }
   ],
   "source": [
    "z = z.to(device=\"cpu\")\n",
    "print(z.numpy()) # No error"
   ]
  },
  {
   "cell_type": "markdown",
   "id": "different-enclosure",
   "metadata": {},
   "source": [
    "Variables that need to be optimized/trained by gradient descent require a specification of the parameter ```requires_grad``` to be ```True```."
   ]
  },
  {
   "cell_type": "code",
   "execution_count": 67,
   "id": "surrounded-estate",
   "metadata": {},
   "outputs": [
    {
     "name": "stdout",
     "output_type": "stream",
     "text": [
      "tensor([[1., 1., 1., 1., 1., 1., 1., 1., 1., 1.],\n",
      "        [1., 1., 1., 1., 1., 1., 1., 1., 1., 1.],\n",
      "        [1., 1., 1., 1., 1., 1., 1., 1., 1., 1.],\n",
      "        [1., 1., 1., 1., 1., 1., 1., 1., 1., 1.],\n",
      "        [1., 1., 1., 1., 1., 1., 1., 1., 1., 1.],\n",
      "        [1., 1., 1., 1., 1., 1., 1., 1., 1., 1.],\n",
      "        [1., 1., 1., 1., 1., 1., 1., 1., 1., 1.],\n",
      "        [1., 1., 1., 1., 1., 1., 1., 1., 1., 1.],\n",
      "        [1., 1., 1., 1., 1., 1., 1., 1., 1., 1.],\n",
      "        [1., 1., 1., 1., 1., 1., 1., 1., 1., 1.]], requires_grad=True)\n"
     ]
    }
   ],
   "source": [
    "x = torch.ones(size=(10,10), requires_grad=True)\n",
    "print(x)"
   ]
  },
  {
   "cell_type": "code",
   "execution_count": 68,
   "id": "wrapped-reproduction",
   "metadata": {},
   "outputs": [
    {
     "data": {
      "text/plain": [
       "device(type='cpu')"
      ]
     },
     "execution_count": 68,
     "metadata": {},
     "output_type": "execute_result"
    }
   ],
   "source": [
    "x.device"
   ]
  }
 ],
 "metadata": {
  "kernelspec": {
   "display_name": "Python 3 (ipykernel)",
   "language": "python",
   "name": "python3"
  },
  "language_info": {
   "codemirror_mode": {
    "name": "ipython",
    "version": 3
   },
   "file_extension": ".py",
   "mimetype": "text/x-python",
   "name": "python",
   "nbconvert_exporter": "python",
   "pygments_lexer": "ipython3",
   "version": "3.8.10"
  }
 },
 "nbformat": 4,
 "nbformat_minor": 5
}
