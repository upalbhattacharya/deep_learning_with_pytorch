{
 "cells": [
  {
   "cell_type": "code",
   "execution_count": 1,
   "id": "advance-juice",
   "metadata": {},
   "outputs": [],
   "source": [
    "import torch\n",
    "import torch.nn as nn\n",
    "import torchvision\n",
    "import torchvision.transforms as transforms\n",
    "import torchvision.datasets as datasets\n",
    "import torch.nn.functional as F\n",
    "import matplotlib.pyplot as plt\n",
    "import numpy as np"
   ]
  },
  {
   "cell_type": "code",
   "execution_count": 2,
   "id": "fancy-dollar",
   "metadata": {},
   "outputs": [],
   "source": [
    "%matplotlib inline"
   ]
  },
  {
   "cell_type": "code",
   "execution_count": 3,
   "id": "undefined-manufacturer",
   "metadata": {},
   "outputs": [],
   "source": [
    "device = (torch.device(\"cuda\" if torch.cuda.is_available() else \"cpu\"))"
   ]
  },
  {
   "cell_type": "code",
   "execution_count": 28,
   "id": "marine-terry",
   "metadata": {},
   "outputs": [],
   "source": [
    "device = \"cuda\""
   ]
  },
  {
   "cell_type": "markdown",
   "id": "constitutional-balance",
   "metadata": {},
   "source": [
    "Loading the dataset"
   ]
  },
  {
   "cell_type": "markdown",
   "id": "regular-fence",
   "metadata": {},
   "source": [
    "PyTorch's ```Normalize``` transform takes two arguments:\n",
    "- ```mean```: a sequence of means\n",
    "- ```std```: a sequence of standard deviations\n",
    "where the sequence length should be the number of channels."
   ]
  },
  {
   "cell_type": "code",
   "execution_count": 4,
   "id": "underlying-refund",
   "metadata": {},
   "outputs": [],
   "source": [
    "transform = transforms.Compose(\n",
    "[transforms.ToTensor(),\n",
    "transforms.Normalize((0.5, 0.5, 0.5), (0.5, 0.5, 0.5))])"
   ]
  },
  {
   "cell_type": "code",
   "execution_count": 5,
   "id": "unlikely-wheel",
   "metadata": {
    "scrolled": true
   },
   "outputs": [
    {
     "name": "stdout",
     "output_type": "stream",
     "text": [
      "Files already downloaded and verified\n"
     ]
    }
   ],
   "source": [
    "train_dataset = datasets.CIFAR10(root=\"./data\",\n",
    "                                train=True,\n",
    "                                transform=transform,\n",
    "                                download=True)\n",
    "test_dataset = datasets.CIFAR10(root=\"./data\",\n",
    "                               train=False,\n",
    "                               transform=transform)"
   ]
  },
  {
   "cell_type": "markdown",
   "id": "noticed-limit",
   "metadata": {},
   "source": [
    "Defining model hyperparameters and creating dataloaders"
   ]
  },
  {
   "cell_type": "code",
   "execution_count": 49,
   "id": "young-chart",
   "metadata": {},
   "outputs": [],
   "source": [
    "num_epochs = 4\n",
    "batch_size = 32\n",
    "lr = 1e-2"
   ]
  },
  {
   "cell_type": "code",
   "execution_count": 7,
   "id": "assured-structure",
   "metadata": {},
   "outputs": [],
   "source": [
    "train_loader = torch.utils.data.DataLoader(train_dataset,\n",
    "                                         batch_size=batch_size,\n",
    "                                         shuffle=True)\n",
    "\n",
    "test_loader = torch.utils.data.DataLoader(test_dataset,\n",
    "                                        batch_size=batch_size)"
   ]
  },
  {
   "cell_type": "markdown",
   "id": "bulgarian-louisiana",
   "metadata": {},
   "source": [
    "Model definition"
   ]
  },
  {
   "cell_type": "code",
   "execution_count": 37,
   "id": "departmental-legislation",
   "metadata": {},
   "outputs": [],
   "source": [
    "class ConvNet(nn.Module):\n",
    "    def __init__(self):\n",
    "        super(ConvNet, self).__init__()\n",
    "        self.conv1 = nn.Conv2d(in_channels=3,\n",
    "                              out_channels=6,\n",
    "                              kernel_size=5,\n",
    "                              stride=1)\n",
    "        self.relu = nn.ReLU()\n",
    "        self.pool = nn.MaxPool2d(kernel_size=2,\n",
    "                                 stride=2)\n",
    "        self.conv2 = nn.Conv2d(in_channels=6,\n",
    "                              out_channels=16,\n",
    "                              kernel_size=5,\n",
    "                              stride=1)\n",
    "        self.fc1 = nn.Linear(in_features=16*5*5,\n",
    "                            out_features=120)\n",
    "        self.fc2 = nn.Linear(in_features=120,\n",
    "                            out_features=84)\n",
    "        self.fc3 = nn.Linear(in_features=84,\n",
    "                            out_features=10)\n",
    "    def forward(self, x):\n",
    "        x = self.conv1(x)\n",
    "        x = self.relu(x)\n",
    "        x = self.pool(x)\n",
    "        x = self.conv2(x)\n",
    "        x = self.relu(x)\n",
    "        x = self.pool(x)\n",
    "        x = torch.flatten(x, start_dim=1)\n",
    "        x = self.fc1(x)\n",
    "        x = self.relu(x)\n",
    "        x = self.fc2(x)\n",
    "        x = self.relu(x)\n",
    "        x = self.fc3(x)\n",
    "        return x"
   ]
  },
  {
   "cell_type": "markdown",
   "id": "paperback-daughter",
   "metadata": {},
   "source": [
    "Defining loss and optimizer"
   ]
  },
  {
   "cell_type": "code",
   "execution_count": 50,
   "id": "productive-blind",
   "metadata": {},
   "outputs": [],
   "source": [
    "model = ConvNet().to(device)"
   ]
  },
  {
   "cell_type": "code",
   "execution_count": 51,
   "id": "million-clothing",
   "metadata": {},
   "outputs": [],
   "source": [
    "objective = nn.CrossEntropyLoss() # Do not apply softmax\n",
    "optimizer = torch.optim.SGD(model.parameters(), lr=lr)"
   ]
  },
  {
   "cell_type": "markdown",
   "id": "revolutionary-louis",
   "metadata": {},
   "source": [
    "Training loop"
   ]
  },
  {
   "cell_type": "code",
   "execution_count": 52,
   "id": "extraordinary-tribe",
   "metadata": {},
   "outputs": [
    {
     "name": "stdout",
     "output_type": "stream",
     "text": [
      "Epoch:\t0\tbatch:\t0/1563\tloss:\t2.318211317062378\n",
      "Epoch:\t0\tbatch:\t100/1563\tloss:\t2.300767183303833\n",
      "Epoch:\t0\tbatch:\t200/1563\tloss:\t2.315434455871582\n",
      "Epoch:\t0\tbatch:\t300/1563\tloss:\t2.3048276901245117\n",
      "Epoch:\t0\tbatch:\t400/1563\tloss:\t2.294724702835083\n",
      "Epoch:\t0\tbatch:\t500/1563\tloss:\t2.300926923751831\n",
      "Epoch:\t0\tbatch:\t600/1563\tloss:\t2.2964396476745605\n",
      "Epoch:\t0\tbatch:\t700/1563\tloss:\t2.2828571796417236\n",
      "Epoch:\t0\tbatch:\t800/1563\tloss:\t2.2831249237060547\n",
      "Epoch:\t0\tbatch:\t900/1563\tloss:\t2.281726598739624\n",
      "Epoch:\t0\tbatch:\t1000/1563\tloss:\t2.2380683422088623\n",
      "Epoch:\t0\tbatch:\t1100/1563\tloss:\t2.119163751602173\n",
      "Epoch:\t0\tbatch:\t1200/1563\tloss:\t2.1538150310516357\n",
      "Epoch:\t0\tbatch:\t1300/1563\tloss:\t1.9885618686676025\n",
      "Epoch:\t0\tbatch:\t1400/1563\tloss:\t1.9433199167251587\n",
      "Epoch:\t0\tbatch:\t1500/1563\tloss:\t1.9678658246994019\n",
      "Epoch:\t1\tbatch:\t0/1563\tloss:\t2.1921746730804443\n",
      "Epoch:\t1\tbatch:\t100/1563\tloss:\t2.092982530593872\n",
      "Epoch:\t1\tbatch:\t200/1563\tloss:\t1.7823247909545898\n",
      "Epoch:\t1\tbatch:\t300/1563\tloss:\t1.9456764459609985\n",
      "Epoch:\t1\tbatch:\t400/1563\tloss:\t1.9341709613800049\n",
      "Epoch:\t1\tbatch:\t500/1563\tloss:\t1.7027263641357422\n",
      "Epoch:\t1\tbatch:\t600/1563\tloss:\t1.7904819250106812\n",
      "Epoch:\t1\tbatch:\t700/1563\tloss:\t1.8350898027420044\n",
      "Epoch:\t1\tbatch:\t800/1563\tloss:\t1.9349030256271362\n",
      "Epoch:\t1\tbatch:\t900/1563\tloss:\t1.8956254720687866\n",
      "Epoch:\t1\tbatch:\t1000/1563\tloss:\t1.704943299293518\n",
      "Epoch:\t1\tbatch:\t1100/1563\tloss:\t1.6797444820404053\n",
      "Epoch:\t1\tbatch:\t1200/1563\tloss:\t1.714194893836975\n",
      "Epoch:\t1\tbatch:\t1300/1563\tloss:\t1.5786820650100708\n",
      "Epoch:\t1\tbatch:\t1400/1563\tloss:\t1.8589977025985718\n",
      "Epoch:\t1\tbatch:\t1500/1563\tloss:\t1.6823543310165405\n",
      "Epoch:\t2\tbatch:\t0/1563\tloss:\t1.6194864511489868\n",
      "Epoch:\t2\tbatch:\t100/1563\tloss:\t1.7693477869033813\n",
      "Epoch:\t2\tbatch:\t200/1563\tloss:\t1.7093185186386108\n",
      "Epoch:\t2\tbatch:\t300/1563\tloss:\t1.5612409114837646\n",
      "Epoch:\t2\tbatch:\t400/1563\tloss:\t1.6209049224853516\n",
      "Epoch:\t2\tbatch:\t500/1563\tloss:\t1.7737674713134766\n",
      "Epoch:\t2\tbatch:\t600/1563\tloss:\t1.756895661354065\n",
      "Epoch:\t2\tbatch:\t700/1563\tloss:\t1.6600152254104614\n",
      "Epoch:\t2\tbatch:\t800/1563\tloss:\t1.8419513702392578\n",
      "Epoch:\t2\tbatch:\t900/1563\tloss:\t2.0533699989318848\n",
      "Epoch:\t2\tbatch:\t1000/1563\tloss:\t1.5273358821868896\n",
      "Epoch:\t2\tbatch:\t1100/1563\tloss:\t1.7891826629638672\n",
      "Epoch:\t2\tbatch:\t1200/1563\tloss:\t1.24284029006958\n",
      "Epoch:\t2\tbatch:\t1300/1563\tloss:\t1.7727940082550049\n",
      "Epoch:\t2\tbatch:\t1400/1563\tloss:\t1.5305581092834473\n",
      "Epoch:\t2\tbatch:\t1500/1563\tloss:\t1.4077448844909668\n",
      "Epoch:\t3\tbatch:\t0/1563\tloss:\t1.6182162761688232\n",
      "Epoch:\t3\tbatch:\t100/1563\tloss:\t1.484106183052063\n",
      "Epoch:\t3\tbatch:\t200/1563\tloss:\t1.2790133953094482\n",
      "Epoch:\t3\tbatch:\t300/1563\tloss:\t1.4342528581619263\n",
      "Epoch:\t3\tbatch:\t400/1563\tloss:\t1.7075061798095703\n",
      "Epoch:\t3\tbatch:\t500/1563\tloss:\t1.499102234840393\n",
      "Epoch:\t3\tbatch:\t600/1563\tloss:\t1.6102930307388306\n",
      "Epoch:\t3\tbatch:\t700/1563\tloss:\t1.3931182622909546\n",
      "Epoch:\t3\tbatch:\t800/1563\tloss:\t1.477913737297058\n",
      "Epoch:\t3\tbatch:\t900/1563\tloss:\t1.4442849159240723\n",
      "Epoch:\t3\tbatch:\t1000/1563\tloss:\t1.4809496402740479\n",
      "Epoch:\t3\tbatch:\t1100/1563\tloss:\t1.3850940465927124\n",
      "Epoch:\t3\tbatch:\t1200/1563\tloss:\t1.6434340476989746\n",
      "Epoch:\t3\tbatch:\t1300/1563\tloss:\t1.2432842254638672\n",
      "Epoch:\t3\tbatch:\t1400/1563\tloss:\t1.3759287595748901\n",
      "Epoch:\t3\tbatch:\t1500/1563\tloss:\t1.510251760482788\n"
     ]
    }
   ],
   "source": [
    "num_batches = len(train_loader)\n",
    "for epoch in range(num_epochs):\n",
    "    for i, (images, labels) in enumerate(train_loader):\n",
    "        # Conversion to correct shape\n",
    "        # 32 x 3 x 32 x 32 -> 32 x 3 x 1024\n",
    "        images = images.to(device)\n",
    "        labels = labels.to(device)\n",
    "        \n",
    "        # Forward Pass\n",
    "        y_pred = model(images).to(device)\n",
    "        loss = objective(y_pred, labels)\n",
    "        optimizer.zero_grad()\n",
    "        loss.backward()\n",
    "        optimizer.step()\n",
    "        \n",
    "        if (i % 100 == 0):\n",
    "            print(\n",
    "            f\"Epoch:\\t{epoch}\\tbatch:\\t{i}/{num_batches}\\tloss:\\t{loss.item()}\")"
   ]
  },
  {
   "cell_type": "markdown",
   "id": "statutory-print",
   "metadata": {},
   "source": [
    "Test loop"
   ]
  },
  {
   "cell_type": "code",
   "execution_count": 53,
   "id": "infectious-missile",
   "metadata": {},
   "outputs": [
    {
     "name": "stdout",
     "output_type": "stream",
     "text": [
      "Accuracy on test set: 46.9%\n"
     ]
    }
   ],
   "source": [
    "with torch.no_grad():\n",
    "    n_samples = 0\n",
    "    n_correct = 0\n",
    "    n_class_correct = [0.0 for i in range(10)]\n",
    "    n_class_samples = [0.0 for i in range(10)]\n",
    "    for i, (images, labels) in enumerate(test_loader):\n",
    "        images = images.to(device)\n",
    "        labels = labels.to(device)\n",
    "        y_pred = model(images)\n",
    "        vals, preds = torch.max(y_pred, dim=1)\n",
    "        loss = objective(y_pred, labels)\n",
    "        n_samples += labels.shape[0]\n",
    "        n_correct += (preds == labels).sum().item()\n",
    "        for j in range(labels.size()[0]):\n",
    "            label = labels[j]\n",
    "            pred = preds[j]\n",
    "            if(label == pred):\n",
    "                n_class_correct[label] += 1\n",
    "            n_class_samples[label] += 1\n",
    "    acc = n_correct / n_samples * 100.0\n",
    "    print(f\"Accuracy on test set: {acc}%\")"
   ]
  },
  {
   "cell_type": "code",
   "execution_count": null,
   "id": "israeli-payday",
   "metadata": {},
   "outputs": [],
   "source": []
  }
 ],
 "metadata": {
  "kernelspec": {
   "display_name": "Python 3 (ipykernel)",
   "language": "python",
   "name": "python3"
  },
  "language_info": {
   "codemirror_mode": {
    "name": "ipython",
    "version": 3
   },
   "file_extension": ".py",
   "mimetype": "text/x-python",
   "name": "python",
   "nbconvert_exporter": "python",
   "pygments_lexer": "ipython3",
   "version": "3.8.10"
  }
 },
 "nbformat": 4,
 "nbformat_minor": 5
}
