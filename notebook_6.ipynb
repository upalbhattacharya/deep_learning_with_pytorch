{
 "cells": [
  {
   "cell_type": "markdown",
   "id": "caring-aspect",
   "metadata": {},
   "source": [
    "## Feed Forward Neural Network"
   ]
  },
  {
   "cell_type": "code",
   "execution_count": 37,
   "id": "attractive-exemption",
   "metadata": {},
   "outputs": [],
   "source": [
    "import torch\n",
    "import torch.nn as nn\n",
    "import torchvision\n",
    "import torchvision.transforms as transforms\n",
    "import matplotlib.pyplot as plt\n",
    "from torchinfo import summary"
   ]
  },
  {
   "cell_type": "code",
   "execution_count": 2,
   "id": "pretty-riding",
   "metadata": {},
   "outputs": [],
   "source": [
    "%matplotlib inline"
   ]
  },
  {
   "cell_type": "markdown",
   "id": "noticed-ordering",
   "metadata": {},
   "source": [
    "Getting the configuration"
   ]
  },
  {
   "cell_type": "code",
   "execution_count": 3,
   "id": "starting-taylor",
   "metadata": {},
   "outputs": [],
   "source": [
    "if torch.cuda.is_available():\n",
    "    device = \"cuda\"\n",
    "else:\n",
    "    device = \"cpu\""
   ]
  },
  {
   "cell_type": "code",
   "execution_count": 23,
   "id": "regular-white",
   "metadata": {},
   "outputs": [],
   "source": [
    "input_size = 784 # 28x28\n",
    "hidden_size = 100\n",
    "num_classes = 10 # 0 - 9\n",
    "num_epochs = 2\n",
    "batch_size = 32\n",
    "lr = 1e-2"
   ]
  },
  {
   "cell_type": "markdown",
   "id": "conceptual-camcorder",
   "metadata": {},
   "source": [
    "PyTorch has several datasets. The MNIST dataset can be found in ```torchvision.datasets.MNIST```.\n",
    "All datasets are subclasses of ```torch.utils.data.Dataset``` and thus have ```__getitem__()``` and ```__len__()``` methods. and can therefore be passed to ```torch.utils.data.DataLoader```.\n",
    "\n",
    "All datasets have a similar API. The most familiar arguments are:\n",
    "- ```root```: Path where the data is to be stored. A good convention is store the data in a directory called 'data'.\n",
    "- ```train```: Whether to dowload the training split. It is ```False``` by default.\n",
    "- ```transform```: Transformation to be applied to data.\n",
    "- ```target_transform```: Transformation to be applied to the targets.\n",
    "- ```download```: To download the data if it is not available at the given root directory."
   ]
  },
  {
   "cell_type": "code",
   "execution_count": 7,
   "id": "departmental-supervisor",
   "metadata": {},
   "outputs": [
    {
     "name": "stdout",
     "output_type": "stream",
     "text": [
      "Downloading http://yann.lecun.com/exdb/mnist/train-images-idx3-ubyte.gz\n",
      "Downloading http://yann.lecun.com/exdb/mnist/train-images-idx3-ubyte.gz to ./data/MNIST/raw/train-images-idx3-ubyte.gz\n"
     ]
    },
    {
     "data": {
      "application/vnd.jupyter.widget-view+json": {
       "model_id": "1358168b32c648ddbb1176dc7ddf792b",
       "version_major": 2,
       "version_minor": 0
      },
      "text/plain": [
       "  0%|          | 0/9912422 [00:00<?, ?it/s]"
      ]
     },
     "metadata": {},
     "output_type": "display_data"
    },
    {
     "name": "stdout",
     "output_type": "stream",
     "text": [
      "Extracting ./data/MNIST/raw/train-images-idx3-ubyte.gz to ./data/MNIST/raw\n",
      "\n",
      "Downloading http://yann.lecun.com/exdb/mnist/train-labels-idx1-ubyte.gz\n",
      "Downloading http://yann.lecun.com/exdb/mnist/train-labels-idx1-ubyte.gz to ./data/MNIST/raw/train-labels-idx1-ubyte.gz\n"
     ]
    },
    {
     "data": {
      "application/vnd.jupyter.widget-view+json": {
       "model_id": "b21973db479640f0bc5ab99da1955bf3",
       "version_major": 2,
       "version_minor": 0
      },
      "text/plain": [
       "  0%|          | 0/28881 [00:00<?, ?it/s]"
      ]
     },
     "metadata": {},
     "output_type": "display_data"
    },
    {
     "name": "stdout",
     "output_type": "stream",
     "text": [
      "Extracting ./data/MNIST/raw/train-labels-idx1-ubyte.gz to ./data/MNIST/raw\n",
      "\n",
      "Downloading http://yann.lecun.com/exdb/mnist/t10k-images-idx3-ubyte.gz\n",
      "Downloading http://yann.lecun.com/exdb/mnist/t10k-images-idx3-ubyte.gz to ./data/MNIST/raw/t10k-images-idx3-ubyte.gz\n"
     ]
    },
    {
     "data": {
      "application/vnd.jupyter.widget-view+json": {
       "model_id": "6f20cf7667dd4388a324bcd9309547ec",
       "version_major": 2,
       "version_minor": 0
      },
      "text/plain": [
       "  0%|          | 0/1648877 [00:00<?, ?it/s]"
      ]
     },
     "metadata": {},
     "output_type": "display_data"
    },
    {
     "name": "stdout",
     "output_type": "stream",
     "text": [
      "Extracting ./data/MNIST/raw/t10k-images-idx3-ubyte.gz to ./data/MNIST/raw\n",
      "\n",
      "Downloading http://yann.lecun.com/exdb/mnist/t10k-labels-idx1-ubyte.gz\n",
      "Downloading http://yann.lecun.com/exdb/mnist/t10k-labels-idx1-ubyte.gz to ./data/MNIST/raw/t10k-labels-idx1-ubyte.gz\n"
     ]
    },
    {
     "data": {
      "application/vnd.jupyter.widget-view+json": {
       "model_id": "e9c5efc5a14b42448c0fc62becad58f6",
       "version_major": 2,
       "version_minor": 0
      },
      "text/plain": [
       "  0%|          | 0/4542 [00:00<?, ?it/s]"
      ]
     },
     "metadata": {},
     "output_type": "display_data"
    },
    {
     "name": "stdout",
     "output_type": "stream",
     "text": [
      "Extracting ./data/MNIST/raw/t10k-labels-idx1-ubyte.gz to ./data/MNIST/raw\n",
      "\n"
     ]
    },
    {
     "name": "stderr",
     "output_type": "stream",
     "text": [
      "/home/workboots/workEnv/lib/python3.8/site-packages/torchvision/datasets/mnist.py:498: UserWarning: The given NumPy array is not writeable, and PyTorch does not support non-writeable tensors. This means you can write to the underlying (supposedly non-writeable) NumPy array using the tensor. You may want to copy the array to protect its data or make it writeable before converting it to a tensor. This type of warning will be suppressed for the rest of this program. (Triggered internally at  ../torch/csrc/utils/tensor_numpy.cpp:180.)\n",
      "  return torch.from_numpy(parsed.astype(m[2], copy=False)).view(*s)\n"
     ]
    }
   ],
   "source": [
    "train_dataset = torchvision.datasets.MNIST(root='./data',\n",
    "                                          train=True,\n",
    "                                          transform=transforms.ToTensor(),\n",
    "                                          download=True)\n",
    "test_dataset = torchvision.datasets.MNIST(root='./data',\n",
    "                                          train=False,\n",
    "                                          transform=transforms.ToTensor(),\n",
    "                                          download=True)"
   ]
  },
  {
   "cell_type": "markdown",
   "id": "modified-receptor",
   "metadata": {},
   "source": [
    "Using a ```DataLoader for the data```"
   ]
  },
  {
   "cell_type": "code",
   "execution_count": 8,
   "id": "domestic-sitting",
   "metadata": {},
   "outputs": [],
   "source": [
    "train_loader = torch.utils.data.DataLoader(dataset=train_dataset,\n",
    "                                          batch_size=batch_size,\n",
    "                                          shuffle=True)\n",
    "\n",
    "test_loader = torch.utils.data.DataLoader(dataset=test_dataset,\n",
    "                                         batch_size=batch_size,\n",
    "                                         shuffle=False)"
   ]
  },
  {
   "cell_type": "code",
   "execution_count": 12,
   "id": "attached-filling",
   "metadata": {},
   "outputs": [],
   "source": [
    "examples = iter(train_loader)\n",
    "samples, labels = next(examples)"
   ]
  },
  {
   "cell_type": "code",
   "execution_count": 21,
   "id": "ideal-dictionary",
   "metadata": {},
   "outputs": [
    {
     "name": "stdout",
     "output_type": "stream",
     "text": [
      "torch.Size([32, 1, 28, 28]) torch.Size([32])\n",
      "<class 'torch.Tensor'>\n"
     ]
    }
   ],
   "source": [
    "print(samples.shape, labels.shape)\n",
    "print(type(samples))"
   ]
  },
  {
   "cell_type": "markdown",
   "id": "alpha-fraction",
   "metadata": {},
   "source": [
    "Showing images"
   ]
  },
  {
   "cell_type": "code",
   "execution_count": 18,
   "id": "friendly-antibody",
   "metadata": {},
   "outputs": [
    {
     "data": {
      "image/png": "[encoded data removed]",
      "text/plain": [
       "<Figure size 432x288 with 9 Axes>"
      ]
     },
     "metadata": {
      "needs_background": "light"
     },
     "output_type": "display_data"
    }
   ],
   "source": [
    "for i in range(9):\n",
    "    plt.subplot(3,3,i+1)\n",
    "    plt.imshow(samples[i][0], cmap='gray')\n",
    "\n",
    "plt.show()"
   ]
  },
  {
   "cell_type": "code",
   "execution_count": 19,
   "id": "cordless-politics",
   "metadata": {},
   "outputs": [],
   "source": [
    "class NeuralNet(nn.Module):\n",
    "    def __init__(self, input_features, hidden_features, output_features):\n",
    "        super(NeuralNet, self).__init__()\n",
    "        self.linear1 = nn.Linear(in_features=input_features,\n",
    "                                out_features=hidden_features)\n",
    "        self.relu = nn.ReLU()\n",
    "        self.linear2 = nn.Linear(in_features=hidden_features,\n",
    "                                out_features=output_features)\n",
    "        \n",
    "    def forward(self, x):\n",
    "        result = self.linear1(x)\n",
    "        result = self.relu(result)\n",
    "        result = self.linear2(result)\n",
    "        # Multi-class classification so usage of crossentropy \n",
    "        # thus no softmax\n",
    "        return result"
   ]
  },
  {
   "cell_type": "markdown",
   "id": "native-evanescence",
   "metadata": {},
   "source": [
    "When creating a model, **the model must also be sent to the same device as the data i.e. to cuda or cpu**"
   ]
  },
  {
   "cell_type": "code",
   "execution_count": 32,
   "id": "perceived-occupation",
   "metadata": {},
   "outputs": [],
   "source": [
    "model = NeuralNet(input_features=input_size,\n",
    "                  hidden_features=hidden_size,\n",
    "                 output_features=num_classes)\n",
    "model = model.to(device)\n",
    "objective = nn.CrossEntropyLoss()\n",
    "optimizer = torch.optim.Adam(model.parameters(), lr=lr)"
   ]
  },
  {
   "cell_type": "markdown",
   "id": "sized-situation",
   "metadata": {},
   "source": [
    "Training loop"
   ]
  },
  {
   "cell_type": "code",
   "execution_count": 33,
   "id": "excess-specification",
   "metadata": {
    "scrolled": true
   },
   "outputs": [
    {
     "name": "stdout",
     "output_type": "stream",
     "text": [
      "epoch:\t0\tbatch:\t0/1875\tloss:\t2.333613395690918\n",
      "epoch:\t0\tbatch:\t100/1875\tloss:\t0.45997366309165955\n",
      "epoch:\t0\tbatch:\t200/1875\tloss:\t0.5484407544136047\n",
      "epoch:\t0\tbatch:\t300/1875\tloss:\t0.11715091019868851\n",
      "epoch:\t0\tbatch:\t400/1875\tloss:\t0.2009093463420868\n",
      "epoch:\t0\tbatch:\t500/1875\tloss:\t0.19254189729690552\n",
      "epoch:\t0\tbatch:\t600/1875\tloss:\t0.019059360027313232\n",
      "epoch:\t0\tbatch:\t700/1875\tloss:\t0.8214685320854187\n",
      "epoch:\t0\tbatch:\t800/1875\tloss:\t0.11934762448072433\n",
      "epoch:\t0\tbatch:\t900/1875\tloss:\t0.23372821509838104\n",
      "epoch:\t0\tbatch:\t1000/1875\tloss:\t0.08517943322658539\n",
      "epoch:\t0\tbatch:\t1100/1875\tloss:\t0.011728167533874512\n",
      "epoch:\t0\tbatch:\t1200/1875\tloss:\t0.34928950667381287\n",
      "epoch:\t0\tbatch:\t1300/1875\tloss:\t0.44223397970199585\n",
      "epoch:\t0\tbatch:\t1400/1875\tloss:\t0.08548911660909653\n",
      "epoch:\t0\tbatch:\t1500/1875\tloss:\t0.19533120095729828\n",
      "epoch:\t0\tbatch:\t1600/1875\tloss:\t0.034675855189561844\n",
      "epoch:\t0\tbatch:\t1700/1875\tloss:\t0.1716262847185135\n",
      "epoch:\t0\tbatch:\t1800/1875\tloss:\t0.4242292642593384\n",
      "epoch:\t1\tbatch:\t0/1875\tloss:\t0.014846784994006157\n",
      "epoch:\t1\tbatch:\t100/1875\tloss:\t0.27265626192092896\n",
      "epoch:\t1\tbatch:\t200/1875\tloss:\t0.26728707551956177\n",
      "epoch:\t1\tbatch:\t300/1875\tloss:\t0.32613205909729004\n",
      "epoch:\t1\tbatch:\t400/1875\tloss:\t0.5016693472862244\n",
      "epoch:\t1\tbatch:\t500/1875\tloss:\t0.05064339190721512\n",
      "epoch:\t1\tbatch:\t600/1875\tloss:\t0.014007193967700005\n",
      "epoch:\t1\tbatch:\t700/1875\tloss:\t0.08505672961473465\n",
      "epoch:\t1\tbatch:\t800/1875\tloss:\t0.15147607028484344\n",
      "epoch:\t1\tbatch:\t900/1875\tloss:\t0.5472511649131775\n",
      "epoch:\t1\tbatch:\t1000/1875\tloss:\t0.016060156747698784\n",
      "epoch:\t1\tbatch:\t1100/1875\tloss:\t0.3236009478569031\n",
      "epoch:\t1\tbatch:\t1200/1875\tloss:\t0.2680874466896057\n",
      "epoch:\t1\tbatch:\t1300/1875\tloss:\t0.2201412171125412\n",
      "epoch:\t1\tbatch:\t1400/1875\tloss:\t0.02937466837465763\n",
      "epoch:\t1\tbatch:\t1500/1875\tloss:\t0.045273393392562866\n",
      "epoch:\t1\tbatch:\t1600/1875\tloss:\t0.3669300377368927\n",
      "epoch:\t1\tbatch:\t1700/1875\tloss:\t0.12994560599327087\n",
      "epoch:\t1\tbatch:\t1800/1875\tloss:\t0.10726286470890045\n",
      "Accuracy:96.03\n"
     ]
    }
   ],
   "source": [
    "n_total_steps = len(train_loader)\n",
    "for epoch in range(num_epochs):\n",
    "    for i, (images, labels) in enumerate(train_loader):\n",
    "        images = images.reshape(images.shape[0],-1).to(device)\n",
    "        labels = labels.to(device)\n",
    "        # Forward pass\n",
    "        y_pred = model(images)\n",
    "        loss = objective(y_pred, labels)\n",
    "        # Backward pass\n",
    "        optimizer.zero_grad()\n",
    "        loss.backward()\n",
    "        optimizer.step()\n",
    "        \n",
    "        # Printing\n",
    "        if(i % 100 == 0):\n",
    "            print(f\"epoch:\\t{epoch}\\tbatch:\\t{i}/{n_total_steps}\\tloss:\\t{loss.item()}\")\n",
    "            \n",
    "with torch.no_grad():\n",
    "    n_correct = 0\n",
    "    n_samples = 0\n",
    "    for images, labels in test_loader:\n",
    "        images = images.reshape(images.shape[0], -1).to(device)\n",
    "        labels = labels.to(device)\n",
    "        y_pred = model(images)\n",
    "        val, preds = torch.max(y_pred, dim=1)\n",
    "        n_samples += labels.shape[0]\n",
    "        n_correct += (preds == labels).sum().item()\n",
    "    \n",
    "    acc = 100.0 * n_correct / n_samples\n",
    "    print(f\"Accuracy:{acc}\")\n",
    "    \n",
    "        "
   ]
  },
  {
   "cell_type": "code",
   "execution_count": 43,
   "id": "confidential-specific",
   "metadata": {},
   "outputs": [
    {
     "data": {
      "text/plain": [
       "==========================================================================================\n",
       "Layer (type:depth-idx)                   Output Shape              Param #\n",
       "==========================================================================================\n",
       "NeuralNet                                --                        --\n",
       "├─Linear: 1-1                            [32, 100]                 78,500\n",
       "├─ReLU: 1-2                              [32, 100]                 --\n",
       "├─Linear: 1-3                            [32, 10]                  1,010\n",
       "==========================================================================================\n",
       "Total params: 79,510\n",
       "Trainable params: 79,510\n",
       "Non-trainable params: 0\n",
       "Total mult-adds (M): 2.54\n",
       "==========================================================================================\n",
       "Input size (MB): 0.10\n",
       "Forward/backward pass size (MB): 0.03\n",
       "Params size (MB): 0.32\n",
       "Estimated Total Size (MB): 0.45\n",
       "=========================================================================================="
      ]
     },
     "execution_count": 43,
     "metadata": {},
     "output_type": "execute_result"
    }
   ],
   "source": [
    "summary(model,\n",
    "       input_size=(batch_size, 784))"
   ]
  },
  {
   "cell_type": "code",
   "execution_count": null,
   "id": "cleared-browser",
   "metadata": {},
   "outputs": [],
   "source": []
  }
 ],
 "metadata": {
  "kernelspec": {
   "display_name": "Python 3 (ipykernel)",
   "language": "python",
   "name": "python3"
  },
  "language_info": {
   "codemirror_mode": {
    "name": "ipython",
    "version": 3
   },
   "file_extension": ".py",
   "mimetype": "text/x-python",
   "name": "python",
   "nbconvert_exporter": "python",
   "pygments_lexer": "ipython3",
   "version": "3.8.10"
  }
 },
 "nbformat": 4,
 "nbformat_minor": 5
}
